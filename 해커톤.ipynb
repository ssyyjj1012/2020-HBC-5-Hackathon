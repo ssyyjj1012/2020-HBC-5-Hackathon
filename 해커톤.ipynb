{
  "nbformat": 4,
  "nbformat_minor": 0,
  "metadata": {
    "accelerator": "GPU",
    "colab": {
      "name": "해커톤.ipynb",
      "provenance": [],
      "collapsed_sections": [],
      "toc_visible": true
    },
    "kernelspec": {
      "display_name": "Python 3",
      "language": "python",
      "name": "python3"
    },
    "language_info": {
      "codemirror_mode": {
        "name": "ipython",
        "version": 3
      },
      "file_extension": ".py",
      "mimetype": "text/x-python",
      "name": "python",
      "nbconvert_exporter": "python",
      "pygments_lexer": "ipython3",
      "version": "3.6.8"
    },
    "widgets": {
      "application/vnd.jupyter.widget-state+json": {
        "ec9b98f36d364ea38a9a56cb3c25b336": {
          "model_module": "@jupyter-widgets/controls",
          "model_name": "HBoxModel",
          "state": {
            "_dom_classes": [],
            "_model_module": "@jupyter-widgets/controls",
            "_model_module_version": "1.5.0",
            "_model_name": "HBoxModel",
            "_view_count": null,
            "_view_module": "@jupyter-widgets/controls",
            "_view_module_version": "1.5.0",
            "_view_name": "HBoxView",
            "box_style": "",
            "children": [
              "IPY_MODEL_257fc01c94f645f4bf0dd3351a5126dc",
              "IPY_MODEL_7d10a6aef3c64beb89fe58b0a5ff2dbc"
            ],
            "layout": "IPY_MODEL_edb6236388bd4163983fd8259bcb7c22"
          }
        },
        "257fc01c94f645f4bf0dd3351a5126dc": {
          "model_module": "@jupyter-widgets/controls",
          "model_name": "FloatProgressModel",
          "state": {
            "_dom_classes": [],
            "_model_module": "@jupyter-widgets/controls",
            "_model_module_version": "1.5.0",
            "_model_name": "FloatProgressModel",
            "_view_count": null,
            "_view_module": "@jupyter-widgets/controls",
            "_view_module_version": "1.5.0",
            "_view_name": "ProgressView",
            "bar_style": "success",
            "description": "100%",
            "description_tooltip": null,
            "layout": "IPY_MODEL_90bc510ca07147fdaf7894231e36e920",
            "max": 356082095,
            "min": 0,
            "orientation": "horizontal",
            "style": "IPY_MODEL_0a0f8023fdfb4fe6b17e5967f8be6b9d",
            "value": 356082095
          }
        },
        "7d10a6aef3c64beb89fe58b0a5ff2dbc": {
          "model_module": "@jupyter-widgets/controls",
          "model_name": "HTMLModel",
          "state": {
            "_dom_classes": [],
            "_model_module": "@jupyter-widgets/controls",
            "_model_module_version": "1.5.0",
            "_model_name": "HTMLModel",
            "_view_count": null,
            "_view_module": "@jupyter-widgets/controls",
            "_view_module_version": "1.5.0",
            "_view_name": "HTMLView",
            "description": "",
            "description_tooltip": null,
            "layout": "IPY_MODEL_6a61f2ba2c0444d3b73a2cd24833bf23",
            "placeholder": "​",
            "style": "IPY_MODEL_e37b72f4f9c84b6396a6c4d529591cbc",
            "value": " 340M/340M [06:18&lt;00:00, 940kB/s]"
          }
        },
        "edb6236388bd4163983fd8259bcb7c22": {
          "model_module": "@jupyter-widgets/base",
          "model_name": "LayoutModel",
          "state": {
            "_model_module": "@jupyter-widgets/base",
            "_model_module_version": "1.2.0",
            "_model_name": "LayoutModel",
            "_view_count": null,
            "_view_module": "@jupyter-widgets/base",
            "_view_module_version": "1.2.0",
            "_view_name": "LayoutView",
            "align_content": null,
            "align_items": null,
            "align_self": null,
            "border": null,
            "bottom": null,
            "display": null,
            "flex": null,
            "flex_flow": null,
            "grid_area": null,
            "grid_auto_columns": null,
            "grid_auto_flow": null,
            "grid_auto_rows": null,
            "grid_column": null,
            "grid_gap": null,
            "grid_row": null,
            "grid_template_areas": null,
            "grid_template_columns": null,
            "grid_template_rows": null,
            "height": null,
            "justify_content": null,
            "justify_items": null,
            "left": null,
            "margin": null,
            "max_height": null,
            "max_width": null,
            "min_height": null,
            "min_width": null,
            "object_fit": null,
            "object_position": null,
            "order": null,
            "overflow": null,
            "overflow_x": null,
            "overflow_y": null,
            "padding": null,
            "right": null,
            "top": null,
            "visibility": null,
            "width": null
          }
        },
        "90bc510ca07147fdaf7894231e36e920": {
          "model_module": "@jupyter-widgets/base",
          "model_name": "LayoutModel",
          "state": {
            "_model_module": "@jupyter-widgets/base",
            "_model_module_version": "1.2.0",
            "_model_name": "LayoutModel",
            "_view_count": null,
            "_view_module": "@jupyter-widgets/base",
            "_view_module_version": "1.2.0",
            "_view_name": "LayoutView",
            "align_content": null,
            "align_items": null,
            "align_self": null,
            "border": null,
            "bottom": null,
            "display": null,
            "flex": null,
            "flex_flow": null,
            "grid_area": null,
            "grid_auto_columns": null,
            "grid_auto_flow": null,
            "grid_auto_rows": null,
            "grid_column": null,
            "grid_gap": null,
            "grid_row": null,
            "grid_template_areas": null,
            "grid_template_columns": null,
            "grid_template_rows": null,
            "height": null,
            "justify_content": null,
            "justify_items": null,
            "left": null,
            "margin": null,
            "max_height": null,
            "max_width": null,
            "min_height": null,
            "min_width": null,
            "object_fit": null,
            "object_position": null,
            "order": null,
            "overflow": null,
            "overflow_x": null,
            "overflow_y": null,
            "padding": null,
            "right": null,
            "top": null,
            "visibility": null,
            "width": null
          }
        },
        "0a0f8023fdfb4fe6b17e5967f8be6b9d": {
          "model_module": "@jupyter-widgets/controls",
          "model_name": "ProgressStyleModel",
          "state": {
            "_model_module": "@jupyter-widgets/controls",
            "_model_module_version": "1.5.0",
            "_model_name": "ProgressStyleModel",
            "_view_count": null,
            "_view_module": "@jupyter-widgets/base",
            "_view_module_version": "1.2.0",
            "_view_name": "StyleView",
            "bar_color": null,
            "description_width": "initial"
          }
        },
        "6a61f2ba2c0444d3b73a2cd24833bf23": {
          "model_module": "@jupyter-widgets/base",
          "model_name": "LayoutModel",
          "state": {
            "_model_module": "@jupyter-widgets/base",
            "_model_module_version": "1.2.0",
            "_model_name": "LayoutModel",
            "_view_count": null,
            "_view_module": "@jupyter-widgets/base",
            "_view_module_version": "1.2.0",
            "_view_name": "LayoutView",
            "align_content": null,
            "align_items": null,
            "align_self": null,
            "border": null,
            "bottom": null,
            "display": null,
            "flex": null,
            "flex_flow": null,
            "grid_area": null,
            "grid_auto_columns": null,
            "grid_auto_flow": null,
            "grid_auto_rows": null,
            "grid_column": null,
            "grid_gap": null,
            "grid_row": null,
            "grid_template_areas": null,
            "grid_template_columns": null,
            "grid_template_rows": null,
            "height": null,
            "justify_content": null,
            "justify_items": null,
            "left": null,
            "margin": null,
            "max_height": null,
            "max_width": null,
            "min_height": null,
            "min_width": null,
            "object_fit": null,
            "object_position": null,
            "order": null,
            "overflow": null,
            "overflow_x": null,
            "overflow_y": null,
            "padding": null,
            "right": null,
            "top": null,
            "visibility": null,
            "width": null
          }
        },
        "e37b72f4f9c84b6396a6c4d529591cbc": {
          "model_module": "@jupyter-widgets/controls",
          "model_name": "DescriptionStyleModel",
          "state": {
            "_model_module": "@jupyter-widgets/controls",
            "_model_module_version": "1.5.0",
            "_model_name": "DescriptionStyleModel",
            "_view_count": null,
            "_view_module": "@jupyter-widgets/base",
            "_view_module_version": "1.2.0",
            "_view_name": "StyleView",
            "description_width": ""
          }
        }
      }
    }
  },
  "cells": [
    {
      "cell_type": "code",
      "metadata": {
        "colab": {
          "base_uri": "https://localhost:8080/"
        },
        "id": "CvxVXlDrpjXY",
        "outputId": "edb52ca3-8696-451f-e2dc-27ec14f6865b"
      },
      "source": [
        "from google.colab import drive\n",
        "drive.mount('/content/drive')"
      ],
      "execution_count": null,
      "outputs": [
        {
          "output_type": "stream",
          "text": [
            "Mounted at /content/drive\n"
          ],
          "name": "stdout"
        }
      ]
    },
    {
      "cell_type": "code",
      "metadata": {
        "id": "5F1IgYPNpedm"
      },
      "source": [
        "import torch\n",
        "from torchvision import datasets, transforms\n",
        "import torch.nn as nn\n",
        "import torch.nn.functional as F\n",
        "import torch.optim as optim\n",
        "\n",
        "import numpy as np\n",
        "\n",
        "import torch\n",
        "from torchvision import datasets, transforms"
      ],
      "execution_count": null,
      "outputs": []
    },
    {
      "cell_type": "code",
      "metadata": {
        "id": "2VUEUSpepedq"
      },
      "source": [
        "MEANS = [0.5 , 0.5, 0.5]\n",
        "DEVIATIONS = [0.5, 0.5 , 0.5]\n",
        "transform = transforms.Compose([transforms.Resize((255,255)),\n",
        "                                transforms.Resize((224,224)),\n",
        "                                transforms.RandomHorizontalFlip(p=0.5),\n",
        "                                transforms.ToTensor(),\n",
        "                                transforms.Normalize(MEANS,DEVIATIONS)\n",
        "                               ])\n"
      ],
      "execution_count": null,
      "outputs": []
    },
    {
      "cell_type": "code",
      "metadata": {
        "id": "AjKLOREXpeds"
      },
      "source": [
        "train_dataset = datasets.ImageFolder('./drive/My Drive/data/train', transform=transform)\n",
        "vali_dataset = datasets.ImageFolder('./drive/My Drive/data/validation', transform=transform)"
      ],
      "execution_count": null,
      "outputs": []
    },
    {
      "cell_type": "code",
      "metadata": {
        "colab": {
          "base_uri": "https://localhost:8080/"
        },
        "id": "X7af5rdfpedt",
        "outputId": "3108da3f-22a0-4a73-fcc3-8fdde7883beb"
      },
      "source": [
        "print('train :',len(train_dataset))\n",
        "print('validation :',len(vali_dataset))"
      ],
      "execution_count": null,
      "outputs": [
        {
          "output_type": "stream",
          "text": [
            "train : 14327\n",
            "validation : 1620\n"
          ],
          "name": "stdout"
        }
      ]
    },
    {
      "cell_type": "code",
      "metadata": {
        "id": "D9QFssctpedw"
      },
      "source": [
        "train_dataloader = torch.utils.data.DataLoader(train_dataset, batch_size=64, shuffle=True)\n",
        "vali_dataloader = torch.utils.data.DataLoader(vali_dataset, batch_size=64, shuffle=True)"
      ],
      "execution_count": null,
      "outputs": []
    },
    {
      "cell_type": "code",
      "metadata": {
        "colab": {
          "base_uri": "https://localhost:8080/",
          "height": 84,
          "referenced_widgets": [
            "ec9b98f36d364ea38a9a56cb3c25b336",
            "257fc01c94f645f4bf0dd3351a5126dc",
            "7d10a6aef3c64beb89fe58b0a5ff2dbc",
            "edb6236388bd4163983fd8259bcb7c22",
            "90bc510ca07147fdaf7894231e36e920",
            "0a0f8023fdfb4fe6b17e5967f8be6b9d",
            "6a61f2ba2c0444d3b73a2cd24833bf23",
            "e37b72f4f9c84b6396a6c4d529591cbc"
          ]
        },
        "id": "t6f9Targpedy",
        "outputId": "504d93df-3af0-4537-f3cc-78b56b6dea9b"
      },
      "source": [
        "import torchvision.models as models\n",
        "\n",
        "model_transfer = models.resnext101_32x8d(pretrained=True)"
      ],
      "execution_count": null,
      "outputs": [
        {
          "output_type": "stream",
          "text": [
            "Downloading: \"https://download.pytorch.org/models/resnext101_32x8d-8ba56ff5.pth\" to /root/.cache/torch/hub/checkpoints/resnext101_32x8d-8ba56ff5.pth\n"
          ],
          "name": "stderr"
        },
        {
          "output_type": "display_data",
          "data": {
            "application/vnd.jupyter.widget-view+json": {
              "model_id": "ec9b98f36d364ea38a9a56cb3c25b336",
              "version_major": 2,
              "version_minor": 0
            },
            "text/plain": [
              "HBox(children=(FloatProgress(value=0.0, max=356082095.0), HTML(value='')))"
            ]
          },
          "metadata": {
            "tags": []
          }
        },
        {
          "output_type": "stream",
          "text": [
            "\n"
          ],
          "name": "stdout"
        }
      ]
    },
    {
      "cell_type": "code",
      "metadata": {
        "id": "V8X8Fg4Hpedz"
      },
      "source": [
        "for param in model_transfer.parameters():\n",
        "    param.requires_grad = False"
      ],
      "execution_count": null,
      "outputs": []
    },
    {
      "cell_type": "code",
      "metadata": {
        "id": "K_8HUjWuped1"
      },
      "source": [
        "from collections import OrderedDict\n",
        "fc = nn.Sequential(OrderedDict([\n",
        "                          ('(0):Dropout' , nn.Dropout()),\n",
        "                          ('(1):Linear', nn.Linear(2048, 1000)),\n",
        "                          ('(2):Batchnorm', nn.BatchNorm1d(1000)), \n",
        "                          ('(3):relu', nn.ReLU()),\n",
        "                          ('(4):Dropout' , nn.Dropout()),\n",
        "                          ('(5):Linear', nn.Linear(1000, 100)),\n",
        "                          ('(6):Batchnorm', nn.BatchNorm1d(100)),\n",
        "                          ('(7):relu', nn.ReLU()),\n",
        "                          ('(8):Linear', nn.Linear(100,10)),\n",
        "    \n",
        "                          ('(9):Batchnorm', nn.BatchNorm1d(10)),\n",
        "                          ('(10):Linear', nn.Linear(10,5)),\n",
        "                          ('(11):relu', nn.ReLU()),\n",
        "    \n",
        "                          ('(12):output', nn.LogSoftmax(dim=1))\n",
        "                          ]))\n",
        "\n",
        "model_transfer.fc = fc"
      ],
      "execution_count": null,
      "outputs": []
    },
    {
      "cell_type": "code",
      "metadata": {
        "id": "TeIqjxPeped3"
      },
      "source": [
        "criterion = nn.NLLLoss()\n",
        "optimizer = optim.Adam(model_transfer.parameters() , lr =1e-3)"
      ],
      "execution_count": null,
      "outputs": []
    },
    {
      "cell_type": "code",
      "metadata": {
        "id": "R8-YYgVbped5"
      },
      "source": [
        "Epoch = 6"
      ],
      "execution_count": null,
      "outputs": []
    },
    {
      "cell_type": "code",
      "metadata": {
        "id": "BndczmYLped6"
      },
      "source": [
        "vali_loss_min = np.inf\n",
        "vali_loss_second = np.inf\n",
        "\n",
        "train_losses,valid_losses=[],[]\n",
        "for epoch in range(Epoch):\n",
        "    print(f'{epoch+1}st training start')\n",
        "    \n",
        "    train_accuracy =0\n",
        "    vali_accuracy = 0\n",
        "    train_loss ,vali_loss =0,0\n",
        "    \n",
        "    \n",
        "    model_transfer.train()\n",
        "    for x, y in train_dataloader:\n",
        "        \n",
        "        output= model_transfer(x)\n",
        "        \n",
        "        optimizer.zero_grad()\n",
        "        \n",
        "        loss = criterion(output, y)\n",
        "        \n",
        "        loss.backward()\n",
        "        optimizer.step()\n",
        "        \n",
        "        train_loss += loss.item()*x.size(0)\n",
        "        \n",
        "        ps = torch.exp(output)\n",
        "        top_p, top_class = ps.topk(1, dim=1)\n",
        "        equals = top_class == y.view(*top_class.shape)\n",
        "        train_accuracy += torch.mean(equals.type(torch.FloatTensor)).item()\n",
        "        \n",
        "    model_transfer.eval()\n",
        "    with torch.no_grad():\n",
        "        for x, y in vali_dataloader:\n",
        "\n",
        "            output= model_transfer(x)\n",
        "            loss=criterion( output, y)\n",
        "\n",
        "            vali_loss += loss.item()*x.size(0)\n",
        "\n",
        "            ps = torch.exp(output)\n",
        "            top_p, top_class = ps.topk(1, dim=1)\n",
        "            equals = top_class == y.view(*top_class.shape)\n",
        "            vali_accuracy += torch.mean(equals.type(torch.FloatTensor)).item()\n",
        "        \n",
        "\n",
        "            \n",
        "        train_loss = train_loss/ len(train_dataloader.sampler)\n",
        "        vali_loss = vali_loss/ len(vali_dataloader.sampler)\n",
        "\n",
        "        train_accuracy=(train_accuracy/len(train_dataloader))*100\n",
        "        vali_accuracy=(vali_accuracy/len(vali_dataloader))*100\n",
        "        \n",
        "        \n",
        "        train_losses.append(train_loss)\n",
        "        valid_losses.append(vali_loss)\n",
        "        \n",
        "        \n",
        "        print('Epoch: {} \\tTraining Loss: {:.6f} \\tValidation Loss: {:.6f}'.format(epoch+1, train_loss, vali_loss))\n",
        "        print('          \\tTraining Accuracy: {:.2f} \\tValidation Accuracy: {:.2f}%'.format( train_accuracy, vali_accuracy))\n",
        "\n",
        "        \n",
        "        \n",
        "        if vali_loss < vali_loss_second:\n",
        "            if vali_loss < vali_loss_min:\n",
        "                print('Validation loss decreased ({:.6f} --> {:.6f}).  Saving model ...'.format( vali_loss_min, vali_loss))\n",
        "                torch.save(model_transfer.state_dict(), './drive/My Drive/data/model/modle_best.pt')\n",
        "                vali_loss_min = vali_loss\n",
        "            else:\n",
        "                torch.save(model_transfer.state_dict(), './drive/My Drive/data/model/modle_second.pt')\n",
        "                vali_loss_second = vali_loss"
      ],
      "execution_count": null,
      "outputs": []
    },
    {
      "cell_type": "code",
      "metadata": {
        "id": "4HvMyNPbped9"
      },
      "source": [
        "model_transfer2 = models.resnext101_32x8d(pretrained=False)\n",
        "\n",
        "fc = nn.Sequential(OrderedDict([\n",
        "                          ('(0):Dropout' , nn.Dropout()),\n",
        "                          ('(1):Linear', nn.Linear(2048, 1000)),\n",
        "                          ('(2):Batchnorm', nn.BatchNorm1d(1000)), \n",
        "                          ('(3):relu', nn.ReLU()),\n",
        "                          ('(4):Dropout' , nn.Dropout()),\n",
        "                          ('(5):Linear', nn.Linear(1000, 100)),\n",
        "                          ('(6):Batchnorm', nn.BatchNorm1d(100)),\n",
        "                          ('(7):relu', nn.ReLU()),\n",
        "                          ('(8):Linear', nn.Linear(100,10)),\n",
        "    \n",
        "                          ('(9):Batchnorm', nn.BatchNorm1d(10)),\n",
        "                          ('(10):Linear', nn.Linear(10,5)),\n",
        "                          ('(11):relu', nn.ReLU()),\n",
        "    \n",
        "                          ('(12):output', nn.LogSoftmax(dim=1))\n",
        "                          ]))\n",
        "\n",
        "model_transfer2.fc = fc"
      ],
      "execution_count": null,
      "outputs": []
    },
    {
      "cell_type": "code",
      "metadata": {
        "id": "LaH6ci7Eped-"
      },
      "source": [
        "model_transfer.load_state_dict(torch.load('./drive/My Drive/data/model/modle_best.pt'))\n",
        "model_transfer2.load_state_dict(torch.load('./drive/My Drive/data/model/modle_second.pt'))"
      ],
      "execution_count": null,
      "outputs": []
    },
    {
      "cell_type": "code",
      "metadata": {
        "id": "Gp-dBp5xpeeA"
      },
      "source": [
        "test_transform = transforms.Compose([transforms.Resize((224,224)),\n",
        "                                transforms.ToTensor(),\n",
        "                                transforms.Normalize(MEANS,DEVIATIONS)\n",
        "                               ])\n",
        "\n",
        "test_dataset = datasets.ImageFolder('./drive/My Drive/data/test', transform=test_transform)\n",
        "\n",
        "test_dataloader = torch.utils.data.DataLoader(test_dataset, batch_size=32)"
      ],
      "execution_count": null,
      "outputs": []
    },
    {
      "cell_type": "code",
      "metadata": {
        "id": "k5pJvQD1_VZ2"
      },
      "source": [
        "from tqdm import tqdm"
      ],
      "execution_count": null,
      "outputs": []
    },
    {
      "cell_type": "code",
      "metadata": {
        "colab": {
          "background_save": true,
          "base_uri": "https://localhost:8080/"
        },
        "id": "TiILTMlGpeeC",
        "outputId": "3fcc506e-6380-49b8-b81b-fda3769870ef"
      },
      "source": [
        "model_transfer.eval()\n",
        "model_transfer2.eval()\n",
        "test_loss =0\n",
        "test_accuracy = 0\n",
        "with torch.no_grad():\n",
        "    for x,y in tqdm(test_dataloader):\n",
        "        \n",
        "        output = model_transfer(x)\n",
        "        output2 = model_transfer2(x)\n",
        "        \n",
        "        ps = torch.exp(output)\n",
        "        ps2 = torch.exp(output2)\n",
        "        ps = (ps+ps2)*0.5\n",
        "        \n",
        "        top_p, top_class = ps.topk(1, dim=1)\n",
        "        equals = top_class == y.view(*top_class.shape)\n",
        "        \n",
        "        test_accuracy += torch.mean(equals.type(torch.FloatTensor)).item()\n",
        "\n",
        "test_accuracy=(test_accuracy/len(test_dataloader))*100\n",
        "\n",
        "print('정확도 : {:.4f}%'.format(test_accuracy))"
      ],
      "execution_count": null,
      "outputs": [
        {
          "output_type": "stream",
          "text": [
            "100%|██████████| 44/44 [38:17<00:00, 52.22s/it]"
          ],
          "name": "stderr"
        },
        {
          "output_type": "stream",
          "text": [
            "정확도 : 0.1420%\n"
          ],
          "name": "stdout"
        },
        {
          "output_type": "stream",
          "text": [
            "\n"
          ],
          "name": "stderr"
        }
      ]
    },
    {
      "cell_type": "code",
      "metadata": {
        "id": "1vL10-YlpeeD"
      },
      "source": [
        "from PIL import Image\n",
        "\n",
        "import matplotlib.pyplot as plt\n",
        "\n",
        "\n",
        "def predict(imgpath):\n",
        "    \n",
        "    MEANS = [0.5 , 0.5, 0.5]\n",
        "    DEVIATIONS = [0.5, 0.5 , 0.5]\n",
        "    transform = transforms.Compose([transforms.Resize((224,224)),\n",
        "                                transforms.ToTensor(),\n",
        "                                transforms.Normalize(MEANS,DEVIATIONS)\n",
        "                               ])\n",
        "\n",
        "    img = Image.open(imgpath).convert('RGB')\n",
        "    plt.imshow(img)\n",
        "    img = transform(img)\n",
        "    img = torch.unsqueeze(img , dim=0)\n",
        "    \n",
        "    with torch.no_grad():\n",
        "        output = model_transfer(img)\n",
        "        output2 = model_transfer2(img)\n",
        "    ps = torch.exp(output)\n",
        "    ps2 = torch.exp(output2)\n",
        "    ps =(ps+ps2)*0.5\n",
        "    print(ps)\n",
        "\n",
        "    top_p, top_class = ps.topk(1, dim=1)\n",
        "    print(top_class)\n",
        "    ans = ['공학관', '일송아트홀','산학협력관','대학본부별관', 'clc',]\n",
        "    print(ans[top_class])"
      ],
      "execution_count": null,
      "outputs": []
    },
    {
      "cell_type": "code",
      "metadata": {
        "id": "hIzlm6NnpeeF"
      },
      "source": [
        "predict('./drive/My Drive/data/test/clc/img_11.png')"
      ],
      "execution_count": null,
      "outputs": []
    },
    {
      "cell_type": "code",
      "metadata": {
        "id": "gDX_2z-ZEabV"
      },
      "source": [
        ""
      ],
      "execution_count": null,
      "outputs": []
    }
  ]
}