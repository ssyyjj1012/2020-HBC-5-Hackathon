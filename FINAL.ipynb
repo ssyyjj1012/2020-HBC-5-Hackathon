{
  "nbformat": 4,
  "nbformat_minor": 0,
  "metadata": {
    "kernelspec": {
      "display_name": "Python 3",
      "language": "python",
      "name": "python3"
    },
    "language_info": {
      "codemirror_mode": {
        "name": "ipython",
        "version": 3
      },
      "file_extension": ".py",
      "mimetype": "text/x-python",
      "name": "python",
      "nbconvert_exporter": "python",
      "pygments_lexer": "ipython3",
      "version": "3.6.8"
    },
    
    "accelerator": "GPU",
    "widgets": {
      "application/vnd.jupyter.widget-state+json": {
        "5bd942e545874257aa34710138591bc9": {
          "model_module": "@jupyter-widgets/controls",
          "model_name": "HBoxModel",
          "state": {
            "_view_name": "HBoxView",
            "_dom_classes": [],
            "_model_name": "HBoxModel",
            "_view_module": "@jupyter-widgets/controls",
            "_model_module_version": "1.5.0",
            "_view_count": null,
            "_view_module_version": "1.5.0",
            "box_style": "",
            "layout": "IPY_MODEL_810c9fb6bd094b62ad4cdf3f66088bb1",
            "_model_module": "@jupyter-widgets/controls",
            "children": [
              "IPY_MODEL_5bbf21e7a5934ddc9f68237fdad696d0",
              "IPY_MODEL_e17ba8ad468c4e9ba9f471e9592126af"
            ]
          }
        },
        "810c9fb6bd094b62ad4cdf3f66088bb1": {
          "model_module": "@jupyter-widgets/base",
          "model_name": "LayoutModel",
          "state": {
            "_view_name": "LayoutView",
            "grid_template_rows": null,
            "right": null,
            "justify_content": null,
            "_view_module": "@jupyter-widgets/base",
            "overflow": null,
            "_model_module_version": "1.2.0",
            "_view_count": null,
            "flex_flow": null,
            "width": null,
            "min_width": null,
            "border": null,
            "align_items": null,
            "bottom": null,
            "_model_module": "@jupyter-widgets/base",
            "top": null,
            "grid_column": null,
            "overflow_y": null,
            "overflow_x": null,
            "grid_auto_flow": null,
            "grid_area": null,
            "grid_template_columns": null,
            "flex": null,
            "_model_name": "LayoutModel",
            "justify_items": null,
            "grid_row": null,
            "max_height": null,
            "align_content": null,
            "visibility": null,
            "align_self": null,
            "height": null,
            "min_height": null,
            "padding": null,
            "grid_auto_rows": null,
            "grid_gap": null,
            "max_width": null,
            "order": null,
            "_view_module_version": "1.2.0",
            "grid_template_areas": null,
            "object_position": null,
            "object_fit": null,
            "grid_auto_columns": null,
            "margin": null,
            "display": null,
            "left": null
          }
        },
        "5bbf21e7a5934ddc9f68237fdad696d0": {
          "model_module": "@jupyter-widgets/controls",
          "model_name": "FloatProgressModel",
          "state": {
            "_view_name": "ProgressView",
            "style": "IPY_MODEL_df0b1db8c6a94d02b905b9fd65fbd41c",
            "_dom_classes": [],
            "description": "100%",
            "_model_name": "FloatProgressModel",
            "bar_style": "success",
            "max": 100441675,
            "_view_module": "@jupyter-widgets/controls",
            "_model_module_version": "1.5.0",
            "value": 100441675,
            "_view_count": null,
            "_view_module_version": "1.5.0",
            "orientation": "horizontal",
            "min": 0,
            "description_tooltip": null,
            "_model_module": "@jupyter-widgets/controls",
            "layout": "IPY_MODEL_8ed4584a9a1f402fb7af98c779eff50f"
          }
        },
        "e17ba8ad468c4e9ba9f471e9592126af": {
          "model_module": "@jupyter-widgets/controls",
          "model_name": "HTMLModel",
          "state": {
            "_view_name": "HTMLView",
            "style": "IPY_MODEL_be8b8b06c51646f1a8ba365ed665312a",
            "_dom_classes": [],
            "description": "",
            "_model_name": "HTMLModel",
            "placeholder": "​",
            "_view_module": "@jupyter-widgets/controls",
            "_model_module_version": "1.5.0",
            "value": " 95.8M/95.8M [00:01&lt;00:00, 88.6MB/s]",
            "_view_count": null,
            "_view_module_version": "1.5.0",
            "description_tooltip": null,
            "_model_module": "@jupyter-widgets/controls",
            "layout": "IPY_MODEL_4e9a07e8dfc843269f53076442d9bf0b"
          }
        },
        "df0b1db8c6a94d02b905b9fd65fbd41c": {
          "model_module": "@jupyter-widgets/controls",
          "model_name": "ProgressStyleModel",
          "state": {
            "_view_name": "StyleView",
            "_model_name": "ProgressStyleModel",
            "description_width": "initial",
            "_view_module": "@jupyter-widgets/base",
            "_model_module_version": "1.5.0",
            "_view_count": null,
            "_view_module_version": "1.2.0",
            "bar_color": null,
            "_model_module": "@jupyter-widgets/controls"
          }
        },
        "8ed4584a9a1f402fb7af98c779eff50f": {
          "model_module": "@jupyter-widgets/base",
          "model_name": "LayoutModel",
          "state": {
            "_view_name": "LayoutView",
            "grid_template_rows": null,
            "right": null,
            "justify_content": null,
            "_view_module": "@jupyter-widgets/base",
            "overflow": null,
            "_model_module_version": "1.2.0",
            "_view_count": null,
            "flex_flow": null,
            "width": null,
            "min_width": null,
            "border": null,
            "align_items": null,
            "bottom": null,
            "_model_module": "@jupyter-widgets/base",
            "top": null,
            "grid_column": null,
            "overflow_y": null,
            "overflow_x": null,
            "grid_auto_flow": null,
            "grid_area": null,
            "grid_template_columns": null,
            "flex": null,
            "_model_name": "LayoutModel",
            "justify_items": null,
            "grid_row": null,
            "max_height": null,
            "align_content": null,
            "visibility": null,
            "align_self": null,
            "height": null,
            "min_height": null,
            "padding": null,
            "grid_auto_rows": null,
            "grid_gap": null,
            "max_width": null,
            "order": null,
            "_view_module_version": "1.2.0",
            "grid_template_areas": null,
            "object_position": null,
            "object_fit": null,
            "grid_auto_columns": null,
            "margin": null,
            "display": null,
            "left": null
          }
        },
        "be8b8b06c51646f1a8ba365ed665312a": {
          "model_module": "@jupyter-widgets/controls",
          "model_name": "DescriptionStyleModel",
          "state": {
            "_view_name": "StyleView",
            "_model_name": "DescriptionStyleModel",
            "description_width": "",
            "_view_module": "@jupyter-widgets/base",
            "_model_module_version": "1.5.0",
            "_view_count": null,
            "_view_module_version": "1.2.0",
            "_model_module": "@jupyter-widgets/controls"
          }
        },
        "4e9a07e8dfc843269f53076442d9bf0b": {
          "model_module": "@jupyter-widgets/base",
          "model_name": "LayoutModel",
          "state": {
            "_view_name": "LayoutView",
            "grid_template_rows": null,
            "right": null,
            "justify_content": null,
            "_view_module": "@jupyter-widgets/base",
            "overflow": null,
            "_model_module_version": "1.2.0",
            "_view_count": null,
            "flex_flow": null,
            "width": null,
            "min_width": null,
            "border": null,
            "align_items": null,
            "bottom": null,
            "_model_module": "@jupyter-widgets/base",
            "top": null,
            "grid_column": null,
            "overflow_y": null,
            "overflow_x": null,
            "grid_auto_flow": null,
            "grid_area": null,
            "grid_template_columns": null,
            "flex": null,
            "_model_name": "LayoutModel",
            "justify_items": null,
            "grid_row": null,
            "max_height": null,
            "align_content": null,
            "visibility": null,
            "align_self": null,
            "height": null,
            "min_height": null,
            "padding": null,
            "grid_auto_rows": null,
            "grid_gap": null,
            "max_width": null,
            "order": null,
            "_view_module_version": "1.2.0",
            "grid_template_areas": null,
            "object_position": null,
            "object_fit": null,
            "grid_auto_columns": null,
            "margin": null,
            "display": null,
            "left": null
          }
        },
        "cabe698f20a946cca58f0790e230043b": {
          "model_module": "@jupyter-widgets/controls",
          "model_name": "HBoxModel",
          "state": {
            "_view_name": "HBoxView",
            "_dom_classes": [],
            "_model_name": "HBoxModel",
            "_view_module": "@jupyter-widgets/controls",
            "_model_module_version": "1.5.0",
            "_view_count": null,
            "_view_module_version": "1.5.0",
            "box_style": "",
            "layout": "IPY_MODEL_bb2b7c969f59416580e7ad43c964ea72",
            "_model_module": "@jupyter-widgets/controls",
            "children": [
              "IPY_MODEL_89f08298befa46829c1996d0751bd61b",
              "IPY_MODEL_e8eb3853dfa540d7b01d3c46951d1851"
            ]
          }
        },
        "bb2b7c969f59416580e7ad43c964ea72": {
          "model_module": "@jupyter-widgets/base",
          "model_name": "LayoutModel",
          "state": {
            "_view_name": "LayoutView",
            "grid_template_rows": null,
            "right": null,
            "justify_content": null,
            "_view_module": "@jupyter-widgets/base",
            "overflow": null,
            "_model_module_version": "1.2.0",
            "_view_count": null,
            "flex_flow": null,
            "width": null,
            "min_width": null,
            "border": null,
            "align_items": null,
            "bottom": null,
            "_model_module": "@jupyter-widgets/base",
            "top": null,
            "grid_column": null,
            "overflow_y": null,
            "overflow_x": null,
            "grid_auto_flow": null,
            "grid_area": null,
            "grid_template_columns": null,
            "flex": null,
            "_model_name": "LayoutModel",
            "justify_items": null,
            "grid_row": null,
            "max_height": null,
            "align_content": null,
            "visibility": null,
            "align_self": null,
            "height": null,
            "min_height": null,
            "padding": null,
            "grid_auto_rows": null,
            "grid_gap": null,
            "max_width": null,
            "order": null,
            "_view_module_version": "1.2.0",
            "grid_template_areas": null,
            "object_position": null,
            "object_fit": null,
            "grid_auto_columns": null,
            "margin": null,
            "display": null,
            "left": null
          }
        },
        "89f08298befa46829c1996d0751bd61b": {
          "model_module": "@jupyter-widgets/controls",
          "model_name": "FloatProgressModel",
          "state": {
            "_view_name": "ProgressView",
            "style": "IPY_MODEL_897d42924e304ff9b0b301b0b01b3785",
            "_dom_classes": [],
            "description": "100%",
            "_model_name": "FloatProgressModel",
            "bar_style": "success",
            "max": 356082095,
            "_view_module": "@jupyter-widgets/controls",
            "_model_module_version": "1.5.0",
            "value": 356082095,
            "_view_count": null,
            "_view_module_version": "1.5.0",
            "orientation": "horizontal",
            "min": 0,
            "description_tooltip": null,
            "_model_module": "@jupyter-widgets/controls",
            "layout": "IPY_MODEL_964e051a91414b429dff852c0809fa95"
          }
        },
        "e8eb3853dfa540d7b01d3c46951d1851": {
          "model_module": "@jupyter-widgets/controls",
          "model_name": "HTMLModel",
          "state": {
            "_view_name": "HTMLView",
            "style": "IPY_MODEL_be20cd2ae99d444ab541d98e5eddb2f0",
            "_dom_classes": [],
            "description": "",
            "_model_name": "HTMLModel",
            "placeholder": "​",
            "_view_module": "@jupyter-widgets/controls",
            "_model_module_version": "1.5.0",
            "value": " 340M/340M [00:05&lt;00:00, 60.1MB/s]",
            "_view_count": null,
            "_view_module_version": "1.5.0",
            "description_tooltip": null,
            "_model_module": "@jupyter-widgets/controls",
            "layout": "IPY_MODEL_e8a230e1e2aa4926a9c03f1c08d7bac1"
          }
        },
        "897d42924e304ff9b0b301b0b01b3785": {
          "model_module": "@jupyter-widgets/controls",
          "model_name": "ProgressStyleModel",
          "state": {
            "_view_name": "StyleView",
            "_model_name": "ProgressStyleModel",
            "description_width": "initial",
            "_view_module": "@jupyter-widgets/base",
            "_model_module_version": "1.5.0",
            "_view_count": null,
            "_view_module_version": "1.2.0",
            "bar_color": null,
            "_model_module": "@jupyter-widgets/controls"
          }
        },
        "964e051a91414b429dff852c0809fa95": {
          "model_module": "@jupyter-widgets/base",
          "model_name": "LayoutModel",
          "state": {
            "_view_name": "LayoutView",
            "grid_template_rows": null,
            "right": null,
            "justify_content": null,
            "_view_module": "@jupyter-widgets/base",
            "overflow": null,
            "_model_module_version": "1.2.0",
            "_view_count": null,
            "flex_flow": null,
            "width": null,
            "min_width": null,
            "border": null,
            "align_items": null,
            "bottom": null,
            "_model_module": "@jupyter-widgets/base",
            "top": null,
            "grid_column": null,
            "overflow_y": null,
            "overflow_x": null,
            "grid_auto_flow": null,
            "grid_area": null,
            "grid_template_columns": null,
            "flex": null,
            "_model_name": "LayoutModel",
            "justify_items": null,
            "grid_row": null,
            "max_height": null,
            "align_content": null,
            "visibility": null,
            "align_self": null,
            "height": null,
            "min_height": null,
            "padding": null,
            "grid_auto_rows": null,
            "grid_gap": null,
            "max_width": null,
            "order": null,
            "_view_module_version": "1.2.0",
            "grid_template_areas": null,
            "object_position": null,
            "object_fit": null,
            "grid_auto_columns": null,
            "margin": null,
            "display": null,
            "left": null
          }
        },
        "be20cd2ae99d444ab541d98e5eddb2f0": {
          "model_module": "@jupyter-widgets/controls",
          "model_name": "DescriptionStyleModel",
          "state": {
            "_view_name": "StyleView",
            "_model_name": "DescriptionStyleModel",
            "description_width": "",
            "_view_module": "@jupyter-widgets/base",
            "_model_module_version": "1.5.0",
            "_view_count": null,
            "_view_module_version": "1.2.0",
            "_model_module": "@jupyter-widgets/controls"
          }
        },
        "e8a230e1e2aa4926a9c03f1c08d7bac1": {
          "model_module": "@jupyter-widgets/base",
          "model_name": "LayoutModel",
          "state": {
            "_view_name": "LayoutView",
            "grid_template_rows": null,
            "right": null,
            "justify_content": null,
            "_view_module": "@jupyter-widgets/base",
            "overflow": null,
            "_model_module_version": "1.2.0",
            "_view_count": null,
            "flex_flow": null,
            "width": null,
            "min_width": null,
            "border": null,
            "align_items": null,
            "bottom": null,
            "_model_module": "@jupyter-widgets/base",
            "top": null,
            "grid_column": null,
            "overflow_y": null,
            "overflow_x": null,
            "grid_auto_flow": null,
            "grid_area": null,
            "grid_template_columns": null,
            "flex": null,
            "_model_name": "LayoutModel",
            "justify_items": null,
            "grid_row": null,
            "max_height": null,
            "align_content": null,
            "visibility": null,
            "align_self": null,
            "height": null,
            "min_height": null,
            "padding": null,
            "grid_auto_rows": null,
            "grid_gap": null,
            "max_width": null,
            "order": null,
            "_view_module_version": "1.2.0",
            "grid_template_areas": null,
            "object_position": null,
            "object_fit": null,
            "grid_auto_columns": null,
            "margin": null,
            "display": null,
            "left": null
          }
        }
      }
    }
  },
    {
      "cell_type": "code",
      "metadata": {
        "id": "ntmTg882NLYx",
        "colab": {
          "base_uri": "https://localhost:8080/"
        },
        "outputId": "dc211d52-d0f8-4e9e-b660-c1158c47a010"
      },
      "source": [
        "from google.colab import drive\n",
        "drive.mount('/content/drive')"
      ],
      "execution_count": null,
      "outputs": [
        {
          "output_type": "stream",
          "text": [
            "Mounted at /content/drive\n"
          ],
          "name": "stdout"
        }
      ]
    },
    {
      "cell_type": "code",
      "metadata": {
        "id": "JFt7e3MtM-ek"
      },
      "source": [
        "import torch\n",
        "from torchvision import datasets, transforms\n",
        "import torch.nn as nn\n",
        "import torch.nn.functional as F\n",
        "import torch.optim as optim\n",
        "\n",
        "from tqdm import tqdm\n",
        "import numpy as np\n",
        "\n",
        "import torch\n",
        "from torchvision import datasets, transforms"
      ],
      "execution_count": null,
      "outputs": []
    },
    {
      "cell_type": "code",
      "metadata": {
        "id": "LheISy5zM-e4"
      },
      "source": [
        "device = 'cuda' if torch.cuda.is_available() else 'cpu'"
      ],
      "execution_count": null,
      "outputs": []
    },
    {
      "cell_type": "code",
      "metadata": {
        "id": "gAJIjgfAM-fG"
      },
      "source": [
        "MEANS = [0.5 , 0.5, 0.5]\n",
        "DEVIATIONS = [0.5, 0.5 , 0.5]\n",
        "transform = transforms.Compose([transforms.Resize(255),\n",
        "#                                 transforms.CenterCrop(224),\n",
        "                                transforms.RandomCrop(224),\n",
        "                                transforms.RandomHorizontalFlip(p=0.5),\n",
        "                                transforms.ToTensor(),\n",
        "                                transforms.Normalize(MEANS,DEVIATIONS)\n",
        "                               ])"
      ],
      "execution_count": null,
      "outputs": []
    },
    {
      "cell_type": "code",
      "metadata": {
        "id": "2P6CUGyHM-fU"
      },
      "source": [
        "train_dataset = datasets.ImageFolder('./drive/My Drive/trainG', transform=transform)\n",
        "vali_dataset = datasets.ImageFolder('./drive/My Drive/validationG', transform=transform)\n",
        "test_dataset = datasets.ImageFolder('./drive/My Drive/testG', transform=transform)"
      ],
      "execution_count": null,
      "outputs": []
    },
    {
      "cell_type": "code",
      "metadata": {
        "id": "Z_ZioNnRM-fh",
        "colab": {
          "base_uri": "https://localhost:8080/"
        },
        "outputId": "8bf7833e-9d6a-453d-b204-fcc4e214ca8a"
      },
      "source": [
        "test_dataset.classes"
      ],
      "execution_count": null,
      "outputs": [
        {
          "output_type": "execute_result",
          "data": {
            "text/plain": [
              "['.ipynb_checkpoints',\n",
              " 'clc',\n",
              " '공대',\n",
              " '본부 별관',\n",
              " '산학협력관',\n",
              " '일송아트홀']"
            ]
          },
          "metadata": {
            "tags": []
          },
          "execution_count": 7
        }
      ]
    },
    {
      "cell_type": "code",
      "metadata": {
        "id": "vlnd4n4oM-fx",
        "colab": {
          "base_uri": "https://localhost:8080/"
        },
        "outputId": "9872ab93-cb01-4532-9024-d0be6f3cd7a1"
      },
      "source": [
        "print('train :',len(train_dataset))\n",
        "print('validation :',len(vali_dataset))\n",
        "print('test :',len(test_dataset))\n"
      ],
      "execution_count": null,
      "outputs": [
        {
          "output_type": "stream",
          "text": [
            "train : 13264\n",
            "validation : 3375\n",
            "test : 1808\n"
          ],
          "name": "stdout"
        }
      ]
    },
    {
      "cell_type": "code",
      "metadata": {
        "id": "rBi6upVTM-gD"
      },
      "source": [
        "train_dataloader = torch.utils.data.DataLoader(train_dataset, batch_size=64, shuffle=True)\n",
        "vali_dataloader = torch.utils.data.DataLoader(vali_dataset, batch_size=64, shuffle=True)\n",
        "test_dataloader = torch.utils.data.DataLoader(test_dataset, batch_size=32)"
      ],
      "execution_count": null,
      "outputs": []
    },
    {
      "cell_type": "code",
      "metadata": {
        "id": "9r6wQzbmM-gS",
        "colab": {
          "base_uri": "https://localhost:8080/",
          "height": 84,
          "referenced_widgets": [
            "5bd942e545874257aa34710138591bc9",
            "810c9fb6bd094b62ad4cdf3f66088bb1",
            "5bbf21e7a5934ddc9f68237fdad696d0",
            "e17ba8ad468c4e9ba9f471e9592126af",
            "df0b1db8c6a94d02b905b9fd65fbd41c",
            "8ed4584a9a1f402fb7af98c779eff50f",
            "be8b8b06c51646f1a8ba365ed665312a",
            "4e9a07e8dfc843269f53076442d9bf0b"
          ]
        },
        "outputId": "777582d4-820a-4fd0-e473-68844e7603b5"
      },
      "source": [
        "import torchvision.models as models\n",
        "\n",
        "model_transfer = models.resnext50_32x4d(pretrained=True)\n"
      ],
      "execution_count": null,
      "outputs": [
        {
          "output_type": "stream",
          "text": [
            "Downloading: \"https://download.pytorch.org/models/resnext50_32x4d-7cdf4587.pth\" to /root/.cache/torch/hub/checkpoints/resnext50_32x4d-7cdf4587.pth\n"
          ],
          "name": "stderr"
        },
        {
          "output_type": "display_data",
          "data": {
            "application/vnd.jupyter.widget-view+json": {
              "model_id": "5bd942e545874257aa34710138591bc9",
              "version_minor": 0,
              "version_major": 2
            },
            "text/plain": [
              "HBox(children=(FloatProgress(value=0.0, max=100441675.0), HTML(value='')))"
            ]
          },
          "metadata": {
            "tags": []
          }
        },
        {
          "output_type": "stream",
          "text": [
            "\n"
          ],
          "name": "stdout"
        }
      ]
    },
    {
      "cell_type": "code",
      "metadata": {
        "id": "1fGGFnkAM-gh",
        "colab": {
          "base_uri": "https://localhost:8080/",
          "height": 1000,
          "referenced_widgets": [
            "cabe698f20a946cca58f0790e230043b",
            "bb2b7c969f59416580e7ad43c964ea72",
            "89f08298befa46829c1996d0751bd61b",
            "e8eb3853dfa540d7b01d3c46951d1851",
            "897d42924e304ff9b0b301b0b01b3785",
            "964e051a91414b429dff852c0809fa95",
            "be20cd2ae99d444ab541d98e5eddb2f0",
            "e8a230e1e2aa4926a9c03f1c08d7bac1"
          ]
        },
        "outputId": "58dcc379-c3e1-4a14-cd60-45e85ebfb4b9"
      },
      "source": [
        "models.resnext101_32x8d(pretrained=True)"
      ],
      "execution_count": null,
      "outputs": [
        {
          "output_type": "stream",
          "text": [
            "Downloading: \"https://download.pytorch.org/models/resnext101_32x8d-8ba56ff5.pth\" to /root/.cache/torch/hub/checkpoints/resnext101_32x8d-8ba56ff5.pth\n"
          ],
          "name": "stderr"
        },
        {
          "output_type": "display_data",
          "data": {
            "application/vnd.jupyter.widget-view+json": {
              "model_id": "cabe698f20a946cca58f0790e230043b",
              "version_minor": 0,
              "version_major": 2
            },
            "text/plain": [
              "HBox(children=(FloatProgress(value=0.0, max=356082095.0), HTML(value='')))"
            ]
          },
          "metadata": {
            "tags": []
          }
        },
        {
          "output_type": "stream",
          "text": [
            "\n"
          ],
          "name": "stdout"
        },
        {
          "output_type": "execute_result",
          "data": {
            "text/plain": [
              "ResNet(\n",
              "  (conv1): Conv2d(3, 64, kernel_size=(7, 7), stride=(2, 2), padding=(3, 3), bias=False)\n",
              "  (bn1): BatchNorm2d(64, eps=1e-05, momentum=0.1, affine=True, track_running_stats=True)\n",
              "  (relu): ReLU(inplace=True)\n",
              "  (maxpool): MaxPool2d(kernel_size=3, stride=2, padding=1, dilation=1, ceil_mode=False)\n",
              "  (layer1): Sequential(\n",
              "    (0): Bottleneck(\n",
              "      (conv1): Conv2d(64, 256, kernel_size=(1, 1), stride=(1, 1), bias=False)\n",
              "      (bn1): BatchNorm2d(256, eps=1e-05, momentum=0.1, affine=True, track_running_stats=True)\n",
              "      (conv2): Conv2d(256, 256, kernel_size=(3, 3), stride=(1, 1), padding=(1, 1), groups=32, bias=False)\n",
              "      (bn2): BatchNorm2d(256, eps=1e-05, momentum=0.1, affine=True, track_running_stats=True)\n",
              "      (conv3): Conv2d(256, 256, kernel_size=(1, 1), stride=(1, 1), bias=False)\n",
              "      (bn3): BatchNorm2d(256, eps=1e-05, momentum=0.1, affine=True, track_running_stats=True)\n",
              "      (relu): ReLU(inplace=True)\n",
              "      (downsample): Sequential(\n",
              "        (0): Conv2d(64, 256, kernel_size=(1, 1), stride=(1, 1), bias=False)\n",
              "        (1): BatchNorm2d(256, eps=1e-05, momentum=0.1, affine=True, track_running_stats=True)\n",
              "      )\n",
              "    )\n",
              "    (1): Bottleneck(\n",
              "      (conv1): Conv2d(256, 256, kernel_size=(1, 1), stride=(1, 1), bias=False)\n",
              "      (bn1): BatchNorm2d(256, eps=1e-05, momentum=0.1, affine=True, track_running_stats=True)\n",
              "      (conv2): Conv2d(256, 256, kernel_size=(3, 3), stride=(1, 1), padding=(1, 1), groups=32, bias=False)\n",
              "      (bn2): BatchNorm2d(256, eps=1e-05, momentum=0.1, affine=True, track_running_stats=True)\n",
              "      (conv3): Conv2d(256, 256, kernel_size=(1, 1), stride=(1, 1), bias=False)\n",
              "      (bn3): BatchNorm2d(256, eps=1e-05, momentum=0.1, affine=True, track_running_stats=True)\n",
              "      (relu): ReLU(inplace=True)\n",
              "    )\n",
              "    (2): Bottleneck(\n",
              "      (conv1): Conv2d(256, 256, kernel_size=(1, 1), stride=(1, 1), bias=False)\n",
              "      (bn1): BatchNorm2d(256, eps=1e-05, momentum=0.1, affine=True, track_running_stats=True)\n",
              "      (conv2): Conv2d(256, 256, kernel_size=(3, 3), stride=(1, 1), padding=(1, 1), groups=32, bias=False)\n",
              "      (bn2): BatchNorm2d(256, eps=1e-05, momentum=0.1, affine=True, track_running_stats=True)\n",
              "      (conv3): Conv2d(256, 256, kernel_size=(1, 1), stride=(1, 1), bias=False)\n",
              "      (bn3): BatchNorm2d(256, eps=1e-05, momentum=0.1, affine=True, track_running_stats=True)\n",
              "      (relu): ReLU(inplace=True)\n",
              "    )\n",
              "  )\n",
              "  (layer2): Sequential(\n",
              "    (0): Bottleneck(\n",
              "      (conv1): Conv2d(256, 512, kernel_size=(1, 1), stride=(1, 1), bias=False)\n",
              "      (bn1): BatchNorm2d(512, eps=1e-05, momentum=0.1, affine=True, track_running_stats=True)\n",
              "      (conv2): Conv2d(512, 512, kernel_size=(3, 3), stride=(2, 2), padding=(1, 1), groups=32, bias=False)\n",
              "      (bn2): BatchNorm2d(512, eps=1e-05, momentum=0.1, affine=True, track_running_stats=True)\n",
              "      (conv3): Conv2d(512, 512, kernel_size=(1, 1), stride=(1, 1), bias=False)\n",
              "      (bn3): BatchNorm2d(512, eps=1e-05, momentum=0.1, affine=True, track_running_stats=True)\n",
              "      (relu): ReLU(inplace=True)\n",
              "      (downsample): Sequential(\n",
              "        (0): Conv2d(256, 512, kernel_size=(1, 1), stride=(2, 2), bias=False)\n",
              "        (1): BatchNorm2d(512, eps=1e-05, momentum=0.1, affine=True, track_running_stats=True)\n",
              "      )\n",
              "    )\n",
              "    (1): Bottleneck(\n",
              "      (conv1): Conv2d(512, 512, kernel_size=(1, 1), stride=(1, 1), bias=False)\n",
              "      (bn1): BatchNorm2d(512, eps=1e-05, momentum=0.1, affine=True, track_running_stats=True)\n",
              "      (conv2): Conv2d(512, 512, kernel_size=(3, 3), stride=(1, 1), padding=(1, 1), groups=32, bias=False)\n",
              "      (bn2): BatchNorm2d(512, eps=1e-05, momentum=0.1, affine=True, track_running_stats=True)\n",
              "      (conv3): Conv2d(512, 512, kernel_size=(1, 1), stride=(1, 1), bias=False)\n",
              "      (bn3): BatchNorm2d(512, eps=1e-05, momentum=0.1, affine=True, track_running_stats=True)\n",
              "      (relu): ReLU(inplace=True)\n",
              "    )\n",
              "    (2): Bottleneck(\n",
              "      (conv1): Conv2d(512, 512, kernel_size=(1, 1), stride=(1, 1), bias=False)\n",
              "      (bn1): BatchNorm2d(512, eps=1e-05, momentum=0.1, affine=True, track_running_stats=True)\n",
              "      (conv2): Conv2d(512, 512, kernel_size=(3, 3), stride=(1, 1), padding=(1, 1), groups=32, bias=False)\n",
              "      (bn2): BatchNorm2d(512, eps=1e-05, momentum=0.1, affine=True, track_running_stats=True)\n",
              "      (conv3): Conv2d(512, 512, kernel_size=(1, 1), stride=(1, 1), bias=False)\n",
              "      (bn3): BatchNorm2d(512, eps=1e-05, momentum=0.1, affine=True, track_running_stats=True)\n",
              "      (relu): ReLU(inplace=True)\n",
              "    )\n",
              "    (3): Bottleneck(\n",
              "      (conv1): Conv2d(512, 512, kernel_size=(1, 1), stride=(1, 1), bias=False)\n",
              "      (bn1): BatchNorm2d(512, eps=1e-05, momentum=0.1, affine=True, track_running_stats=True)\n",
              "      (conv2): Conv2d(512, 512, kernel_size=(3, 3), stride=(1, 1), padding=(1, 1), groups=32, bias=False)\n",
              "      (bn2): BatchNorm2d(512, eps=1e-05, momentum=0.1, affine=True, track_running_stats=True)\n",
              "      (conv3): Conv2d(512, 512, kernel_size=(1, 1), stride=(1, 1), bias=False)\n",
              "      (bn3): BatchNorm2d(512, eps=1e-05, momentum=0.1, affine=True, track_running_stats=True)\n",
              "      (relu): ReLU(inplace=True)\n",
              "    )\n",
              "  )\n",
              "  (layer3): Sequential(\n",
              "    (0): Bottleneck(\n",
              "      (conv1): Conv2d(512, 1024, kernel_size=(1, 1), stride=(1, 1), bias=False)\n",
              "      (bn1): BatchNorm2d(1024, eps=1e-05, momentum=0.1, affine=True, track_running_stats=True)\n",
              "      (conv2): Conv2d(1024, 1024, kernel_size=(3, 3), stride=(2, 2), padding=(1, 1), groups=32, bias=False)\n",
              "      (bn2): BatchNorm2d(1024, eps=1e-05, momentum=0.1, affine=True, track_running_stats=True)\n",
              "      (conv3): Conv2d(1024, 1024, kernel_size=(1, 1), stride=(1, 1), bias=False)\n",
              "      (bn3): BatchNorm2d(1024, eps=1e-05, momentum=0.1, affine=True, track_running_stats=True)\n",
              "      (relu): ReLU(inplace=True)\n",
              "      (downsample): Sequential(\n",
              "        (0): Conv2d(512, 1024, kernel_size=(1, 1), stride=(2, 2), bias=False)\n",
              "        (1): BatchNorm2d(1024, eps=1e-05, momentum=0.1, affine=True, track_running_stats=True)\n",
              "      )\n",
              "    )\n",
              "    (1): Bottleneck(\n",
              "      (conv1): Conv2d(1024, 1024, kernel_size=(1, 1), stride=(1, 1), bias=False)\n",
              "      (bn1): BatchNorm2d(1024, eps=1e-05, momentum=0.1, affine=True, track_running_stats=True)\n",
              "      (conv2): Conv2d(1024, 1024, kernel_size=(3, 3), stride=(1, 1), padding=(1, 1), groups=32, bias=False)\n",
              "      (bn2): BatchNorm2d(1024, eps=1e-05, momentum=0.1, affine=True, track_running_stats=True)\n",
              "      (conv3): Conv2d(1024, 1024, kernel_size=(1, 1), stride=(1, 1), bias=False)\n",
              "      (bn3): BatchNorm2d(1024, eps=1e-05, momentum=0.1, affine=True, track_running_stats=True)\n",
              "      (relu): ReLU(inplace=True)\n",
              "    )\n",
              "    (2): Bottleneck(\n",
              "      (conv1): Conv2d(1024, 1024, kernel_size=(1, 1), stride=(1, 1), bias=False)\n",
              "      (bn1): BatchNorm2d(1024, eps=1e-05, momentum=0.1, affine=True, track_running_stats=True)\n",
              "      (conv2): Conv2d(1024, 1024, kernel_size=(3, 3), stride=(1, 1), padding=(1, 1), groups=32, bias=False)\n",
              "      (bn2): BatchNorm2d(1024, eps=1e-05, momentum=0.1, affine=True, track_running_stats=True)\n",
              "      (conv3): Conv2d(1024, 1024, kernel_size=(1, 1), stride=(1, 1), bias=False)\n",
              "      (bn3): BatchNorm2d(1024, eps=1e-05, momentum=0.1, affine=True, track_running_stats=True)\n",
              "      (relu): ReLU(inplace=True)\n",
              "    )\n",
              "    (3): Bottleneck(\n",
              "      (conv1): Conv2d(1024, 1024, kernel_size=(1, 1), stride=(1, 1), bias=False)\n",
              "      (bn1): BatchNorm2d(1024, eps=1e-05, momentum=0.1, affine=True, track_running_stats=True)\n",
              "      (conv2): Conv2d(1024, 1024, kernel_size=(3, 3), stride=(1, 1), padding=(1, 1), groups=32, bias=False)\n",
              "      (bn2): BatchNorm2d(1024, eps=1e-05, momentum=0.1, affine=True, track_running_stats=True)\n",
              "      (conv3): Conv2d(1024, 1024, kernel_size=(1, 1), stride=(1, 1), bias=False)\n",
              "      (bn3): BatchNorm2d(1024, eps=1e-05, momentum=0.1, affine=True, track_running_stats=True)\n",
              "      (relu): ReLU(inplace=True)\n",
              "    )\n",
              "    (4): Bottleneck(\n",
              "      (conv1): Conv2d(1024, 1024, kernel_size=(1, 1), stride=(1, 1), bias=False)\n",
              "      (bn1): BatchNorm2d(1024, eps=1e-05, momentum=0.1, affine=True, track_running_stats=True)\n",
              "      (conv2): Conv2d(1024, 1024, kernel_size=(3, 3), stride=(1, 1), padding=(1, 1), groups=32, bias=False)\n",
              "      (bn2): BatchNorm2d(1024, eps=1e-05, momentum=0.1, affine=True, track_running_stats=True)\n",
              "      (conv3): Conv2d(1024, 1024, kernel_size=(1, 1), stride=(1, 1), bias=False)\n",
              "      (bn3): BatchNorm2d(1024, eps=1e-05, momentum=0.1, affine=True, track_running_stats=True)\n",
              "      (relu): ReLU(inplace=True)\n",
              "    )\n",
              "    (5): Bottleneck(\n",
              "      (conv1): Conv2d(1024, 1024, kernel_size=(1, 1), stride=(1, 1), bias=False)\n",
              "      (bn1): BatchNorm2d(1024, eps=1e-05, momentum=0.1, affine=True, track_running_stats=True)\n",
              "      (conv2): Conv2d(1024, 1024, kernel_size=(3, 3), stride=(1, 1), padding=(1, 1), groups=32, bias=False)\n",
              "      (bn2): BatchNorm2d(1024, eps=1e-05, momentum=0.1, affine=True, track_running_stats=True)\n",
              "      (conv3): Conv2d(1024, 1024, kernel_size=(1, 1), stride=(1, 1), bias=False)\n",
              "      (bn3): BatchNorm2d(1024, eps=1e-05, momentum=0.1, affine=True, track_running_stats=True)\n",
              "      (relu): ReLU(inplace=True)\n",
              "    )\n",
              "    (6): Bottleneck(\n",
              "      (conv1): Conv2d(1024, 1024, kernel_size=(1, 1), stride=(1, 1), bias=False)\n",
              "      (bn1): BatchNorm2d(1024, eps=1e-05, momentum=0.1, affine=True, track_running_stats=True)\n",
              "      (conv2): Conv2d(1024, 1024, kernel_size=(3, 3), stride=(1, 1), padding=(1, 1), groups=32, bias=False)\n",
              "      (bn2): BatchNorm2d(1024, eps=1e-05, momentum=0.1, affine=True, track_running_stats=True)\n",
              "      (conv3): Conv2d(1024, 1024, kernel_size=(1, 1), stride=(1, 1), bias=False)\n",
              "      (bn3): BatchNorm2d(1024, eps=1e-05, momentum=0.1, affine=True, track_running_stats=True)\n",
              "      (relu): ReLU(inplace=True)\n",
              "    )\n",
              "    (7): Bottleneck(\n",
              "      (conv1): Conv2d(1024, 1024, kernel_size=(1, 1), stride=(1, 1), bias=False)\n",
              "      (bn1): BatchNorm2d(1024, eps=1e-05, momentum=0.1, affine=True, track_running_stats=True)\n",
              "      (conv2): Conv2d(1024, 1024, kernel_size=(3, 3), stride=(1, 1), padding=(1, 1), groups=32, bias=False)\n",
              "      (bn2): BatchNorm2d(1024, eps=1e-05, momentum=0.1, affine=True, track_running_stats=True)\n",
              "      (conv3): Conv2d(1024, 1024, kernel_size=(1, 1), stride=(1, 1), bias=False)\n",
              "      (bn3): BatchNorm2d(1024, eps=1e-05, momentum=0.1, affine=True, track_running_stats=True)\n",
              "      (relu): ReLU(inplace=True)\n",
              "    )\n",
              "    (8): Bottleneck(\n",
              "      (conv1): Conv2d(1024, 1024, kernel_size=(1, 1), stride=(1, 1), bias=False)\n",
              "      (bn1): BatchNorm2d(1024, eps=1e-05, momentum=0.1, affine=True, track_running_stats=True)\n",
              "      (conv2): Conv2d(1024, 1024, kernel_size=(3, 3), stride=(1, 1), padding=(1, 1), groups=32, bias=False)\n",
              "      (bn2): BatchNorm2d(1024, eps=1e-05, momentum=0.1, affine=True, track_running_stats=True)\n",
              "      (conv3): Conv2d(1024, 1024, kernel_size=(1, 1), stride=(1, 1), bias=False)\n",
              "      (bn3): BatchNorm2d(1024, eps=1e-05, momentum=0.1, affine=True, track_running_stats=True)\n",
              "      (relu): ReLU(inplace=True)\n",
              "    )\n",
              "    (9): Bottleneck(\n",
              "      (conv1): Conv2d(1024, 1024, kernel_size=(1, 1), stride=(1, 1), bias=False)\n",
              "      (bn1): BatchNorm2d(1024, eps=1e-05, momentum=0.1, affine=True, track_running_stats=True)\n",
              "      (conv2): Conv2d(1024, 1024, kernel_size=(3, 3), stride=(1, 1), padding=(1, 1), groups=32, bias=False)\n",
              "      (bn2): BatchNorm2d(1024, eps=1e-05, momentum=0.1, affine=True, track_running_stats=True)\n",
              "      (conv3): Conv2d(1024, 1024, kernel_size=(1, 1), stride=(1, 1), bias=False)\n",
              "      (bn3): BatchNorm2d(1024, eps=1e-05, momentum=0.1, affine=True, track_running_stats=True)\n",
              "      (relu): ReLU(inplace=True)\n",
              "    )\n",
              "    (10): Bottleneck(\n",
              "      (conv1): Conv2d(1024, 1024, kernel_size=(1, 1), stride=(1, 1), bias=False)\n",
              "      (bn1): BatchNorm2d(1024, eps=1e-05, momentum=0.1, affine=True, track_running_stats=True)\n",
              "      (conv2): Conv2d(1024, 1024, kernel_size=(3, 3), stride=(1, 1), padding=(1, 1), groups=32, bias=False)\n",
              "      (bn2): BatchNorm2d(1024, eps=1e-05, momentum=0.1, affine=True, track_running_stats=True)\n",
              "      (conv3): Conv2d(1024, 1024, kernel_size=(1, 1), stride=(1, 1), bias=False)\n",
              "      (bn3): BatchNorm2d(1024, eps=1e-05, momentum=0.1, affine=True, track_running_stats=True)\n",
              "      (relu): ReLU(inplace=True)\n",
              "    )\n",
              "    (11): Bottleneck(\n",
              "      (conv1): Conv2d(1024, 1024, kernel_size=(1, 1), stride=(1, 1), bias=False)\n",
              "      (bn1): BatchNorm2d(1024, eps=1e-05, momentum=0.1, affine=True, track_running_stats=True)\n",
              "      (conv2): Conv2d(1024, 1024, kernel_size=(3, 3), stride=(1, 1), padding=(1, 1), groups=32, bias=False)\n",
              "      (bn2): BatchNorm2d(1024, eps=1e-05, momentum=0.1, affine=True, track_running_stats=True)\n",
              "      (conv3): Conv2d(1024, 1024, kernel_size=(1, 1), stride=(1, 1), bias=False)\n",
              "      (bn3): BatchNorm2d(1024, eps=1e-05, momentum=0.1, affine=True, track_running_stats=True)\n",
              "      (relu): ReLU(inplace=True)\n",
              "    )\n",
              "    (12): Bottleneck(\n",
              "      (conv1): Conv2d(1024, 1024, kernel_size=(1, 1), stride=(1, 1), bias=False)\n",
              "      (bn1): BatchNorm2d(1024, eps=1e-05, momentum=0.1, affine=True, track_running_stats=True)\n",
              "      (conv2): Conv2d(1024, 1024, kernel_size=(3, 3), stride=(1, 1), padding=(1, 1), groups=32, bias=False)\n",
              "      (bn2): BatchNorm2d(1024, eps=1e-05, momentum=0.1, affine=True, track_running_stats=True)\n",
              "      (conv3): Conv2d(1024, 1024, kernel_size=(1, 1), stride=(1, 1), bias=False)\n",
              "      (bn3): BatchNorm2d(1024, eps=1e-05, momentum=0.1, affine=True, track_running_stats=True)\n",
              "      (relu): ReLU(inplace=True)\n",
              "    )\n",
              "    (13): Bottleneck(\n",
              "      (conv1): Conv2d(1024, 1024, kernel_size=(1, 1), stride=(1, 1), bias=False)\n",
              "      (bn1): BatchNorm2d(1024, eps=1e-05, momentum=0.1, affine=True, track_running_stats=True)\n",
              "      (conv2): Conv2d(1024, 1024, kernel_size=(3, 3), stride=(1, 1), padding=(1, 1), groups=32, bias=False)\n",
              "      (bn2): BatchNorm2d(1024, eps=1e-05, momentum=0.1, affine=True, track_running_stats=True)\n",
              "      (conv3): Conv2d(1024, 1024, kernel_size=(1, 1), stride=(1, 1), bias=False)\n",
              "      (bn3): BatchNorm2d(1024, eps=1e-05, momentum=0.1, affine=True, track_running_stats=True)\n",
              "      (relu): ReLU(inplace=True)\n",
              "    )\n",
              "    (14): Bottleneck(\n",
              "      (conv1): Conv2d(1024, 1024, kernel_size=(1, 1), stride=(1, 1), bias=False)\n",
              "      (bn1): BatchNorm2d(1024, eps=1e-05, momentum=0.1, affine=True, track_running_stats=True)\n",
              "      (conv2): Conv2d(1024, 1024, kernel_size=(3, 3), stride=(1, 1), padding=(1, 1), groups=32, bias=False)\n",
              "      (bn2): BatchNorm2d(1024, eps=1e-05, momentum=0.1, affine=True, track_running_stats=True)\n",
              "      (conv3): Conv2d(1024, 1024, kernel_size=(1, 1), stride=(1, 1), bias=False)\n",
              "      (bn3): BatchNorm2d(1024, eps=1e-05, momentum=0.1, affine=True, track_running_stats=True)\n",
              "      (relu): ReLU(inplace=True)\n",
              "    )\n",
              "    (15): Bottleneck(\n",
              "      (conv1): Conv2d(1024, 1024, kernel_size=(1, 1), stride=(1, 1), bias=False)\n",
              "      (bn1): BatchNorm2d(1024, eps=1e-05, momentum=0.1, affine=True, track_running_stats=True)\n",
              "      (conv2): Conv2d(1024, 1024, kernel_size=(3, 3), stride=(1, 1), padding=(1, 1), groups=32, bias=False)\n",
              "      (bn2): BatchNorm2d(1024, eps=1e-05, momentum=0.1, affine=True, track_running_stats=True)\n",
              "      (conv3): Conv2d(1024, 1024, kernel_size=(1, 1), stride=(1, 1), bias=False)\n",
              "      (bn3): BatchNorm2d(1024, eps=1e-05, momentum=0.1, affine=True, track_running_stats=True)\n",
              "      (relu): ReLU(inplace=True)\n",
              "    )\n",
              "    (16): Bottleneck(\n",
              "      (conv1): Conv2d(1024, 1024, kernel_size=(1, 1), stride=(1, 1), bias=False)\n",
              "      (bn1): BatchNorm2d(1024, eps=1e-05, momentum=0.1, affine=True, track_running_stats=True)\n",
              "      (conv2): Conv2d(1024, 1024, kernel_size=(3, 3), stride=(1, 1), padding=(1, 1), groups=32, bias=False)\n",
              "      (bn2): BatchNorm2d(1024, eps=1e-05, momentum=0.1, affine=True, track_running_stats=True)\n",
              "      (conv3): Conv2d(1024, 1024, kernel_size=(1, 1), stride=(1, 1), bias=False)\n",
              "      (bn3): BatchNorm2d(1024, eps=1e-05, momentum=0.1, affine=True, track_running_stats=True)\n",
              "      (relu): ReLU(inplace=True)\n",
              "    )\n",
              "    (17): Bottleneck(\n",
              "      (conv1): Conv2d(1024, 1024, kernel_size=(1, 1), stride=(1, 1), bias=False)\n",
              "      (bn1): BatchNorm2d(1024, eps=1e-05, momentum=0.1, affine=True, track_running_stats=True)\n",
              "      (conv2): Conv2d(1024, 1024, kernel_size=(3, 3), stride=(1, 1), padding=(1, 1), groups=32, bias=False)\n",
              "      (bn2): BatchNorm2d(1024, eps=1e-05, momentum=0.1, affine=True, track_running_stats=True)\n",
              "      (conv3): Conv2d(1024, 1024, kernel_size=(1, 1), stride=(1, 1), bias=False)\n",
              "      (bn3): BatchNorm2d(1024, eps=1e-05, momentum=0.1, affine=True, track_running_stats=True)\n",
              "      (relu): ReLU(inplace=True)\n",
              "    )\n",
              "    (18): Bottleneck(\n",
              "      (conv1): Conv2d(1024, 1024, kernel_size=(1, 1), stride=(1, 1), bias=False)\n",
              "      (bn1): BatchNorm2d(1024, eps=1e-05, momentum=0.1, affine=True, track_running_stats=True)\n",
              "      (conv2): Conv2d(1024, 1024, kernel_size=(3, 3), stride=(1, 1), padding=(1, 1), groups=32, bias=False)\n",
              "      (bn2): BatchNorm2d(1024, eps=1e-05, momentum=0.1, affine=True, track_running_stats=True)\n",
              "      (conv3): Conv2d(1024, 1024, kernel_size=(1, 1), stride=(1, 1), bias=False)\n",
              "      (bn3): BatchNorm2d(1024, eps=1e-05, momentum=0.1, affine=True, track_running_stats=True)\n",
              "      (relu): ReLU(inplace=True)\n",
              "    )\n",
              "    (19): Bottleneck(\n",
              "      (conv1): Conv2d(1024, 1024, kernel_size=(1, 1), stride=(1, 1), bias=False)\n",
              "      (bn1): BatchNorm2d(1024, eps=1e-05, momentum=0.1, affine=True, track_running_stats=True)\n",
              "      (conv2): Conv2d(1024, 1024, kernel_size=(3, 3), stride=(1, 1), padding=(1, 1), groups=32, bias=False)\n",
              "      (bn2): BatchNorm2d(1024, eps=1e-05, momentum=0.1, affine=True, track_running_stats=True)\n",
              "      (conv3): Conv2d(1024, 1024, kernel_size=(1, 1), stride=(1, 1), bias=False)\n",
              "      (bn3): BatchNorm2d(1024, eps=1e-05, momentum=0.1, affine=True, track_running_stats=True)\n",
              "      (relu): ReLU(inplace=True)\n",
              "    )\n",
              "    (20): Bottleneck(\n",
              "      (conv1): Conv2d(1024, 1024, kernel_size=(1, 1), stride=(1, 1), bias=False)\n",
              "      (bn1): BatchNorm2d(1024, eps=1e-05, momentum=0.1, affine=True, track_running_stats=True)\n",
              "      (conv2): Conv2d(1024, 1024, kernel_size=(3, 3), stride=(1, 1), padding=(1, 1), groups=32, bias=False)\n",
              "      (bn2): BatchNorm2d(1024, eps=1e-05, momentum=0.1, affine=True, track_running_stats=True)\n",
              "      (conv3): Conv2d(1024, 1024, kernel_size=(1, 1), stride=(1, 1), bias=False)\n",
              "      (bn3): BatchNorm2d(1024, eps=1e-05, momentum=0.1, affine=True, track_running_stats=True)\n",
              "      (relu): ReLU(inplace=True)\n",
              "    )\n",
              "    (21): Bottleneck(\n",
              "      (conv1): Conv2d(1024, 1024, kernel_size=(1, 1), stride=(1, 1), bias=False)\n",
              "      (bn1): BatchNorm2d(1024, eps=1e-05, momentum=0.1, affine=True, track_running_stats=True)\n",
              "      (conv2): Conv2d(1024, 1024, kernel_size=(3, 3), stride=(1, 1), padding=(1, 1), groups=32, bias=False)\n",
              "      (bn2): BatchNorm2d(1024, eps=1e-05, momentum=0.1, affine=True, track_running_stats=True)\n",
              "      (conv3): Conv2d(1024, 1024, kernel_size=(1, 1), stride=(1, 1), bias=False)\n",
              "      (bn3): BatchNorm2d(1024, eps=1e-05, momentum=0.1, affine=True, track_running_stats=True)\n",
              "      (relu): ReLU(inplace=True)\n",
              "    )\n",
              "    (22): Bottleneck(\n",
              "      (conv1): Conv2d(1024, 1024, kernel_size=(1, 1), stride=(1, 1), bias=False)\n",
              "      (bn1): BatchNorm2d(1024, eps=1e-05, momentum=0.1, affine=True, track_running_stats=True)\n",
              "      (conv2): Conv2d(1024, 1024, kernel_size=(3, 3), stride=(1, 1), padding=(1, 1), groups=32, bias=False)\n",
              "      (bn2): BatchNorm2d(1024, eps=1e-05, momentum=0.1, affine=True, track_running_stats=True)\n",
              "      (conv3): Conv2d(1024, 1024, kernel_size=(1, 1), stride=(1, 1), bias=False)\n",
              "      (bn3): BatchNorm2d(1024, eps=1e-05, momentum=0.1, affine=True, track_running_stats=True)\n",
              "      (relu): ReLU(inplace=True)\n",
              "    )\n",
              "  )\n",
              "  (layer4): Sequential(\n",
              "    (0): Bottleneck(\n",
              "      (conv1): Conv2d(1024, 2048, kernel_size=(1, 1), stride=(1, 1), bias=False)\n",
              "      (bn1): BatchNorm2d(2048, eps=1e-05, momentum=0.1, affine=True, track_running_stats=True)\n",
              "      (conv2): Conv2d(2048, 2048, kernel_size=(3, 3), stride=(2, 2), padding=(1, 1), groups=32, bias=False)\n",
              "      (bn2): BatchNorm2d(2048, eps=1e-05, momentum=0.1, affine=True, track_running_stats=True)\n",
              "      (conv3): Conv2d(2048, 2048, kernel_size=(1, 1), stride=(1, 1), bias=False)\n",
              "      (bn3): BatchNorm2d(2048, eps=1e-05, momentum=0.1, affine=True, track_running_stats=True)\n",
              "      (relu): ReLU(inplace=True)\n",
              "      (downsample): Sequential(\n",
              "        (0): Conv2d(1024, 2048, kernel_size=(1, 1), stride=(2, 2), bias=False)\n",
              "        (1): BatchNorm2d(2048, eps=1e-05, momentum=0.1, affine=True, track_running_stats=True)\n",
              "      )\n",
              "    )\n",
              "    (1): Bottleneck(\n",
              "      (conv1): Conv2d(2048, 2048, kernel_size=(1, 1), stride=(1, 1), bias=False)\n",
              "      (bn1): BatchNorm2d(2048, eps=1e-05, momentum=0.1, affine=True, track_running_stats=True)\n",
              "      (conv2): Conv2d(2048, 2048, kernel_size=(3, 3), stride=(1, 1), padding=(1, 1), groups=32, bias=False)\n",
              "      (bn2): BatchNorm2d(2048, eps=1e-05, momentum=0.1, affine=True, track_running_stats=True)\n",
              "      (conv3): Conv2d(2048, 2048, kernel_size=(1, 1), stride=(1, 1), bias=False)\n",
              "      (bn3): BatchNorm2d(2048, eps=1e-05, momentum=0.1, affine=True, track_running_stats=True)\n",
              "      (relu): ReLU(inplace=True)\n",
              "    )\n",
              "    (2): Bottleneck(\n",
              "      (conv1): Conv2d(2048, 2048, kernel_size=(1, 1), stride=(1, 1), bias=False)\n",
              "      (bn1): BatchNorm2d(2048, eps=1e-05, momentum=0.1, affine=True, track_running_stats=True)\n",
              "      (conv2): Conv2d(2048, 2048, kernel_size=(3, 3), stride=(1, 1), padding=(1, 1), groups=32, bias=False)\n",
              "      (bn2): BatchNorm2d(2048, eps=1e-05, momentum=0.1, affine=True, track_running_stats=True)\n",
              "      (conv3): Conv2d(2048, 2048, kernel_size=(1, 1), stride=(1, 1), bias=False)\n",
              "      (bn3): BatchNorm2d(2048, eps=1e-05, momentum=0.1, affine=True, track_running_stats=True)\n",
              "      (relu): ReLU(inplace=True)\n",
              "    )\n",
              "  )\n",
              "  (avgpool): AdaptiveAvgPool2d(output_size=(1, 1))\n",
              "  (fc): Linear(in_features=2048, out_features=1000, bias=True)\n",
              ")"
            ]
          },
          "metadata": {
            "tags": []
          },
          "execution_count": 11
        }
      ]
    },
    {
      "cell_type": "code",
      "metadata": {
        "id": "Xqh4PyXhM-gs"
      },
      "source": [
        "for param in model_transfer.parameters():\n",
        "    param.requires_grad = False"
      ],
      "execution_count": null,
      "outputs": []
    },
    {
      "cell_type": "code",
      "metadata": {
        "id": "SLGSnw9SM-g5"
      },
      "source": [
        "from collections import OrderedDict\n",
        "fc = nn.Sequential(OrderedDict([\n",
        "                          ('(0):Dropout' , nn.Dropout()),\n",
        "                          ('(1):Linear', nn.Linear(2048, 1000)),\n",
        "                          ('(2):Batchnorm', nn.BatchNorm1d(1000)), \n",
        "                          ('(3):relu', nn.ReLU()),\n",
        "                          ('(4):Dropout' , nn.Dropout()),\n",
        "                          ('(5):Linear', nn.Linear(1000, 100)),\n",
        "                          ('(6):Batchnorm', nn.BatchNorm1d(100)),\n",
        "                          ('(7):relu', nn.ReLU()),\n",
        "                          ('(8):Linear', nn.Linear(100,10)),\n",
        "    \n",
        "                          ('(9):Batchnorm', nn.BatchNorm1d(10)),\n",
        "                          ('(10):Linear', nn.Linear(10,5)),\n",
        "                          ('(11):relu', nn.ReLU()),\n",
        "    \n",
        "                          ('(12):output', nn.LogSoftmax(dim=1))\n",
        "                          ]))\n",
        "\n",
        "model_transfer.fc = fc"
      ],
      "execution_count": null,
      "outputs": []
    },
    {
      "cell_type": "code",
      "metadata": {
        "id": "7kPMi-DtM-hG"
      },
      "source": [
        "model_transfer =model_transfer.to(device)"
      ],
      "execution_count": null,
      "outputs": []
    },
    {
      "cell_type": "code",
      "metadata": {
        "id": "lWNLT0tgM-hU"
      },
      "source": [
        "criterion = nn.NLLLoss()\n",
        "optimizer = optim.Adam(model_transfer.parameters() , lr =1e-3)\n",
        "scheduler = torch.optim.lr_scheduler.ReduceLROnPlateau(optimizer,patience=10,mode='min')"
      ],
      "execution_count": null,
      "outputs": []
    },
    {
      "cell_type": "code",
      "metadata": {
        "id": "tw-81NWPM-hi"
      },
      "source": [
        "Epoch = 5"
      ],
      "execution_count": null,
      "outputs": []
    },
    {
      "cell_type": "code",
      "metadata": {
        "id": "9-UCbuwaM-hz",
        "colab": {
          "base_uri": "https://localhost:8080/",
          "height": 422
        },
        "outputId": "94eda276-746a-490f-833b-963f0e0e2c6a"
      },
      "source": [
        "vali_loss_min = np.inf\n",
        "vali_loss_second = np.inf\n",
        "\n",
        "train_losses,valid_losses=[],[]\n",
        "for epoch in range(Epoch):\n",
        "    print(f'{epoch+1}st training start')\n",
        "    \n",
        "    train_accuracy =0\n",
        "    vali_accuracy = 0\n",
        "    train_loss ,vali_loss =0,0\n",
        "    \n",
        "    \n",
        "    model_transfer.train()\n",
        "    for x, y in tqdm(train_dataloader):\n",
        "        x,y = x.to(device) , y.to(device)\n",
        "        \n",
        "        \n",
        "        output= model_transfer(x)\n",
        "        \n",
        "        optimizer.zero_grad()\n",
        "        \n",
        "        loss = criterion(output, y)\n",
        "        \n",
        "        loss.backward()\n",
        "        optimizer.step()\n",
        "        \n",
        "        train_loss += loss.item()*x.size(0)\n",
        "        \n",
        "        ps = torch.exp(output)\n",
        "        top_p, top_class = ps.topk(1, dim=1)\n",
        "        equals = top_class == y.view(*top_class.shape)\n",
        "        train_accuracy += torch.mean(equals.type(torch.FloatTensor)).item()\n",
        "        \n",
        "    model_transfer.eval()\n",
        "    with torch.no_grad():\n",
        "        for data, target in tqdm(vali_dataloader):\n",
        "            x,y = x.to(device) , y.to(device)\n",
        "\n",
        "            output= model_transfer(x)\n",
        "            loss=criterion( output, y)\n",
        "\n",
        "            vali_loss += loss.item()*x.size(0)\n",
        "\n",
        "            ps = torch.exp(output)\n",
        "            top_p, top_class = ps.topk(1, dim=1)\n",
        "            equals = top_class == y.view(*top_class.shape)\n",
        "            vali_accuracy += torch.mean(equals.type(torch.FloatTensor)).item()\n",
        "        \n",
        "\n",
        "            \n",
        "        train_loss = train_loss/ len(train_dataloader.sampler)\n",
        "        vali_loss = vali_loss/ len(vali_dataloader.sampler)\n",
        "\n",
        "        train_accuracy=(train_accuracy/len(train_dataloader))*100\n",
        "        vali_accuracy=(vali_accuracy/len(vali_dataloader))*100\n",
        "        \n",
        "        \n",
        "        train_losses.append(train_loss)\n",
        "        valid_losses.append(vali_loss)\n",
        "        \n",
        "        scheduler.step(vali_loss)\n",
        "        for param_group in optimizer.param_groups:\n",
        "            lr = param_group['lr']\n",
        "        print(f'Learning Rate : {lr:2e}')\n",
        "        if(lr<1e-6):\n",
        "            print('Learning rate is too small. Stop training')\n",
        "            break\n",
        "        \n",
        "        \n",
        "        print('Epoch: {} \\tTraining Loss: {:.6f} \\tValidation Loss: {:.6f}'.format(epoch+1, train_loss, vali_loss))\n",
        "        print('          \\tTraining Accuracy: {:.2f} \\tValidation Accuracy: {:.2f}%'.format( train_accuracy, vali_accuracy))\n",
        "\n",
        "        \n",
        "        \n",
        "        if vali_loss < vali_loss_second:\n",
        "            if vali_loss < vali_loss_min:\n",
        "                print('Validation loss decreased ({:.6f} --> {:.6f}).  Saving model ...'.format( vali_loss_min, vali_loss))\n",
        "                torch.save(model_transfer.state_dict(), 'modle_best.pt')\n",
        "                vali_loss_min = vali_loss\n",
        "            else:\n",
        "                torch.save(model_transfer.state_dict(), 'modle_second.pt')\n",
        "                vali_loss_second = vali_loss"
      ],
      "execution_count": null,
      "outputs": [
        {
          "output_type": "stream",
          "text": [
            "\r  0%|          | 0/208 [00:00<?, ?it/s]"
          ],
          "name": "stderr"
        },
        {
          "output_type": "stream",
          "text": [
            "1st training start\n"
          ],
          "name": "stdout"
        },
        {
          "output_type": "stream",
          "text": [
            " 22%|██▏       | 45/208 [22:19<1:21:28, 29.99s/it]"
          ],
          "name": "stderr"
        },
        {
          "output_type": "error",
          "ename": "KeyboardInterrupt",
          "evalue": "ignored",
          "traceback": [
            "\u001b[0;31m---------------------------------------------------------------------------\u001b[0m",
            "\u001b[0;31mKeyboardInterrupt\u001b[0m                         Traceback (most recent call last)",
            "\u001b[0;32m<ipython-input-17-bf02c82cd214>\u001b[0m in \u001b[0;36m<module>\u001b[0;34m()\u001b[0m\n\u001b[1;32m     12\u001b[0m \u001b[0;34m\u001b[0m\u001b[0m\n\u001b[1;32m     13\u001b[0m     \u001b[0mmodel_transfer\u001b[0m\u001b[0;34m.\u001b[0m\u001b[0mtrain\u001b[0m\u001b[0;34m(\u001b[0m\u001b[0;34m)\u001b[0m\u001b[0;34m\u001b[0m\u001b[0;34m\u001b[0m\u001b[0m\n\u001b[0;32m---> 14\u001b[0;31m     \u001b[0;32mfor\u001b[0m \u001b[0mx\u001b[0m\u001b[0;34m,\u001b[0m \u001b[0my\u001b[0m \u001b[0;32min\u001b[0m \u001b[0mtqdm\u001b[0m\u001b[0;34m(\u001b[0m\u001b[0mtrain_dataloader\u001b[0m\u001b[0;34m)\u001b[0m\u001b[0;34m:\u001b[0m\u001b[0;34m\u001b[0m\u001b[0;34m\u001b[0m\u001b[0m\n\u001b[0m\u001b[1;32m     15\u001b[0m         \u001b[0mx\u001b[0m\u001b[0;34m,\u001b[0m\u001b[0my\u001b[0m \u001b[0;34m=\u001b[0m \u001b[0mx\u001b[0m\u001b[0;34m.\u001b[0m\u001b[0mto\u001b[0m\u001b[0;34m(\u001b[0m\u001b[0mdevice\u001b[0m\u001b[0;34m)\u001b[0m \u001b[0;34m,\u001b[0m \u001b[0my\u001b[0m\u001b[0;34m.\u001b[0m\u001b[0mto\u001b[0m\u001b[0;34m(\u001b[0m\u001b[0mdevice\u001b[0m\u001b[0;34m)\u001b[0m\u001b[0;34m\u001b[0m\u001b[0;34m\u001b[0m\u001b[0m\n\u001b[1;32m     16\u001b[0m \u001b[0;34m\u001b[0m\u001b[0m\n",
            "\u001b[0;32m/usr/local/lib/python3.6/dist-packages/tqdm/std.py\u001b[0m in \u001b[0;36m__iter__\u001b[0;34m(self)\u001b[0m\n\u001b[1;32m   1102\u001b[0m                 fp_write=getattr(self.fp, 'write', sys.stderr.write))\n\u001b[1;32m   1103\u001b[0m \u001b[0;34m\u001b[0m\u001b[0m\n\u001b[0;32m-> 1104\u001b[0;31m         \u001b[0;32mfor\u001b[0m \u001b[0mobj\u001b[0m \u001b[0;32min\u001b[0m \u001b[0miterable\u001b[0m\u001b[0;34m:\u001b[0m\u001b[0;34m\u001b[0m\u001b[0;34m\u001b[0m\u001b[0m\n\u001b[0m\u001b[1;32m   1105\u001b[0m             \u001b[0;32myield\u001b[0m \u001b[0mobj\u001b[0m\u001b[0;34m\u001b[0m\u001b[0;34m\u001b[0m\u001b[0m\n\u001b[1;32m   1106\u001b[0m             \u001b[0;31m# Update and possibly print the progressbar.\u001b[0m\u001b[0;34m\u001b[0m\u001b[0;34m\u001b[0m\u001b[0;34m\u001b[0m\u001b[0m\n",
            "\u001b[0;32m/usr/local/lib/python3.6/dist-packages/torch/utils/data/dataloader.py\u001b[0m in \u001b[0;36m__next__\u001b[0;34m(self)\u001b[0m\n\u001b[1;32m    361\u001b[0m \u001b[0;34m\u001b[0m\u001b[0m\n\u001b[1;32m    362\u001b[0m     \u001b[0;32mdef\u001b[0m \u001b[0m__next__\u001b[0m\u001b[0;34m(\u001b[0m\u001b[0mself\u001b[0m\u001b[0;34m)\u001b[0m\u001b[0;34m:\u001b[0m\u001b[0;34m\u001b[0m\u001b[0;34m\u001b[0m\u001b[0m\n\u001b[0;32m--> 363\u001b[0;31m         \u001b[0mdata\u001b[0m \u001b[0;34m=\u001b[0m \u001b[0mself\u001b[0m\u001b[0;34m.\u001b[0m\u001b[0m_next_data\u001b[0m\u001b[0;34m(\u001b[0m\u001b[0;34m)\u001b[0m\u001b[0;34m\u001b[0m\u001b[0;34m\u001b[0m\u001b[0m\n\u001b[0m\u001b[1;32m    364\u001b[0m         \u001b[0mself\u001b[0m\u001b[0;34m.\u001b[0m\u001b[0m_num_yielded\u001b[0m \u001b[0;34m+=\u001b[0m \u001b[0;36m1\u001b[0m\u001b[0;34m\u001b[0m\u001b[0;34m\u001b[0m\u001b[0m\n\u001b[1;32m    365\u001b[0m         \u001b[0;32mif\u001b[0m \u001b[0mself\u001b[0m\u001b[0;34m.\u001b[0m\u001b[0m_dataset_kind\u001b[0m \u001b[0;34m==\u001b[0m \u001b[0m_DatasetKind\u001b[0m\u001b[0;34m.\u001b[0m\u001b[0mIterable\u001b[0m \u001b[0;32mand\u001b[0m\u001b[0;31m \u001b[0m\u001b[0;31m\\\u001b[0m\u001b[0;34m\u001b[0m\u001b[0;34m\u001b[0m\u001b[0m\n",
            "\u001b[0;32m/usr/local/lib/python3.6/dist-packages/torch/utils/data/dataloader.py\u001b[0m in \u001b[0;36m_next_data\u001b[0;34m(self)\u001b[0m\n\u001b[1;32m    401\u001b[0m     \u001b[0;32mdef\u001b[0m \u001b[0m_next_data\u001b[0m\u001b[0;34m(\u001b[0m\u001b[0mself\u001b[0m\u001b[0;34m)\u001b[0m\u001b[0;34m:\u001b[0m\u001b[0;34m\u001b[0m\u001b[0;34m\u001b[0m\u001b[0m\n\u001b[1;32m    402\u001b[0m         \u001b[0mindex\u001b[0m \u001b[0;34m=\u001b[0m \u001b[0mself\u001b[0m\u001b[0;34m.\u001b[0m\u001b[0m_next_index\u001b[0m\u001b[0;34m(\u001b[0m\u001b[0;34m)\u001b[0m  \u001b[0;31m# may raise StopIteration\u001b[0m\u001b[0;34m\u001b[0m\u001b[0;34m\u001b[0m\u001b[0m\n\u001b[0;32m--> 403\u001b[0;31m         \u001b[0mdata\u001b[0m \u001b[0;34m=\u001b[0m \u001b[0mself\u001b[0m\u001b[0;34m.\u001b[0m\u001b[0m_dataset_fetcher\u001b[0m\u001b[0;34m.\u001b[0m\u001b[0mfetch\u001b[0m\u001b[0;34m(\u001b[0m\u001b[0mindex\u001b[0m\u001b[0;34m)\u001b[0m  \u001b[0;31m# may raise StopIteration\u001b[0m\u001b[0;34m\u001b[0m\u001b[0;34m\u001b[0m\u001b[0m\n\u001b[0m\u001b[1;32m    404\u001b[0m         \u001b[0;32mif\u001b[0m \u001b[0mself\u001b[0m\u001b[0;34m.\u001b[0m\u001b[0m_pin_memory\u001b[0m\u001b[0;34m:\u001b[0m\u001b[0;34m\u001b[0m\u001b[0;34m\u001b[0m\u001b[0m\n\u001b[1;32m    405\u001b[0m             \u001b[0mdata\u001b[0m \u001b[0;34m=\u001b[0m \u001b[0m_utils\u001b[0m\u001b[0;34m.\u001b[0m\u001b[0mpin_memory\u001b[0m\u001b[0;34m.\u001b[0m\u001b[0mpin_memory\u001b[0m\u001b[0;34m(\u001b[0m\u001b[0mdata\u001b[0m\u001b[0;34m)\u001b[0m\u001b[0;34m\u001b[0m\u001b[0;34m\u001b[0m\u001b[0m\n",
            "\u001b[0;32m/usr/local/lib/python3.6/dist-packages/torch/utils/data/_utils/fetch.py\u001b[0m in \u001b[0;36mfetch\u001b[0;34m(self, possibly_batched_index)\u001b[0m\n\u001b[1;32m     42\u001b[0m     \u001b[0;32mdef\u001b[0m \u001b[0mfetch\u001b[0m\u001b[0;34m(\u001b[0m\u001b[0mself\u001b[0m\u001b[0;34m,\u001b[0m \u001b[0mpossibly_batched_index\u001b[0m\u001b[0;34m)\u001b[0m\u001b[0;34m:\u001b[0m\u001b[0;34m\u001b[0m\u001b[0;34m\u001b[0m\u001b[0m\n\u001b[1;32m     43\u001b[0m         \u001b[0;32mif\u001b[0m \u001b[0mself\u001b[0m\u001b[0;34m.\u001b[0m\u001b[0mauto_collation\u001b[0m\u001b[0;34m:\u001b[0m\u001b[0;34m\u001b[0m\u001b[0;34m\u001b[0m\u001b[0m\n\u001b[0;32m---> 44\u001b[0;31m             \u001b[0mdata\u001b[0m \u001b[0;34m=\u001b[0m \u001b[0;34m[\u001b[0m\u001b[0mself\u001b[0m\u001b[0;34m.\u001b[0m\u001b[0mdataset\u001b[0m\u001b[0;34m[\u001b[0m\u001b[0midx\u001b[0m\u001b[0;34m]\u001b[0m \u001b[0;32mfor\u001b[0m \u001b[0midx\u001b[0m \u001b[0;32min\u001b[0m \u001b[0mpossibly_batched_index\u001b[0m\u001b[0;34m]\u001b[0m\u001b[0;34m\u001b[0m\u001b[0;34m\u001b[0m\u001b[0m\n\u001b[0m\u001b[1;32m     45\u001b[0m         \u001b[0;32melse\u001b[0m\u001b[0;34m:\u001b[0m\u001b[0;34m\u001b[0m\u001b[0;34m\u001b[0m\u001b[0m\n\u001b[1;32m     46\u001b[0m             \u001b[0mdata\u001b[0m \u001b[0;34m=\u001b[0m \u001b[0mself\u001b[0m\u001b[0;34m.\u001b[0m\u001b[0mdataset\u001b[0m\u001b[0;34m[\u001b[0m\u001b[0mpossibly_batched_index\u001b[0m\u001b[0;34m]\u001b[0m\u001b[0;34m\u001b[0m\u001b[0;34m\u001b[0m\u001b[0m\n",
            "\u001b[0;32m/usr/local/lib/python3.6/dist-packages/torch/utils/data/_utils/fetch.py\u001b[0m in \u001b[0;36m<listcomp>\u001b[0;34m(.0)\u001b[0m\n\u001b[1;32m     42\u001b[0m     \u001b[0;32mdef\u001b[0m \u001b[0mfetch\u001b[0m\u001b[0;34m(\u001b[0m\u001b[0mself\u001b[0m\u001b[0;34m,\u001b[0m \u001b[0mpossibly_batched_index\u001b[0m\u001b[0;34m)\u001b[0m\u001b[0;34m:\u001b[0m\u001b[0;34m\u001b[0m\u001b[0;34m\u001b[0m\u001b[0m\n\u001b[1;32m     43\u001b[0m         \u001b[0;32mif\u001b[0m \u001b[0mself\u001b[0m\u001b[0;34m.\u001b[0m\u001b[0mauto_collation\u001b[0m\u001b[0;34m:\u001b[0m\u001b[0;34m\u001b[0m\u001b[0;34m\u001b[0m\u001b[0m\n\u001b[0;32m---> 44\u001b[0;31m             \u001b[0mdata\u001b[0m \u001b[0;34m=\u001b[0m \u001b[0;34m[\u001b[0m\u001b[0mself\u001b[0m\u001b[0;34m.\u001b[0m\u001b[0mdataset\u001b[0m\u001b[0;34m[\u001b[0m\u001b[0midx\u001b[0m\u001b[0;34m]\u001b[0m \u001b[0;32mfor\u001b[0m \u001b[0midx\u001b[0m \u001b[0;32min\u001b[0m \u001b[0mpossibly_batched_index\u001b[0m\u001b[0;34m]\u001b[0m\u001b[0;34m\u001b[0m\u001b[0;34m\u001b[0m\u001b[0m\n\u001b[0m\u001b[1;32m     45\u001b[0m         \u001b[0;32melse\u001b[0m\u001b[0;34m:\u001b[0m\u001b[0;34m\u001b[0m\u001b[0;34m\u001b[0m\u001b[0m\n\u001b[1;32m     46\u001b[0m             \u001b[0mdata\u001b[0m \u001b[0;34m=\u001b[0m \u001b[0mself\u001b[0m\u001b[0;34m.\u001b[0m\u001b[0mdataset\u001b[0m\u001b[0;34m[\u001b[0m\u001b[0mpossibly_batched_index\u001b[0m\u001b[0;34m]\u001b[0m\u001b[0;34m\u001b[0m\u001b[0;34m\u001b[0m\u001b[0m\n",
            "\u001b[0;32m/usr/local/lib/python3.6/dist-packages/torchvision/datasets/folder.py\u001b[0m in \u001b[0;36m__getitem__\u001b[0;34m(self, index)\u001b[0m\n\u001b[1;32m    135\u001b[0m         \"\"\"\n\u001b[1;32m    136\u001b[0m         \u001b[0mpath\u001b[0m\u001b[0;34m,\u001b[0m \u001b[0mtarget\u001b[0m \u001b[0;34m=\u001b[0m \u001b[0mself\u001b[0m\u001b[0;34m.\u001b[0m\u001b[0msamples\u001b[0m\u001b[0;34m[\u001b[0m\u001b[0mindex\u001b[0m\u001b[0;34m]\u001b[0m\u001b[0;34m\u001b[0m\u001b[0;34m\u001b[0m\u001b[0m\n\u001b[0;32m--> 137\u001b[0;31m         \u001b[0msample\u001b[0m \u001b[0;34m=\u001b[0m \u001b[0mself\u001b[0m\u001b[0;34m.\u001b[0m\u001b[0mloader\u001b[0m\u001b[0;34m(\u001b[0m\u001b[0mpath\u001b[0m\u001b[0;34m)\u001b[0m\u001b[0;34m\u001b[0m\u001b[0;34m\u001b[0m\u001b[0m\n\u001b[0m\u001b[1;32m    138\u001b[0m         \u001b[0;32mif\u001b[0m \u001b[0mself\u001b[0m\u001b[0;34m.\u001b[0m\u001b[0mtransform\u001b[0m \u001b[0;32mis\u001b[0m \u001b[0;32mnot\u001b[0m \u001b[0;32mNone\u001b[0m\u001b[0;34m:\u001b[0m\u001b[0;34m\u001b[0m\u001b[0;34m\u001b[0m\u001b[0m\n\u001b[1;32m    139\u001b[0m             \u001b[0msample\u001b[0m \u001b[0;34m=\u001b[0m \u001b[0mself\u001b[0m\u001b[0;34m.\u001b[0m\u001b[0mtransform\u001b[0m\u001b[0;34m(\u001b[0m\u001b[0msample\u001b[0m\u001b[0;34m)\u001b[0m\u001b[0;34m\u001b[0m\u001b[0;34m\u001b[0m\u001b[0m\n",
            "\u001b[0;32m/usr/local/lib/python3.6/dist-packages/torchvision/datasets/folder.py\u001b[0m in \u001b[0;36mdefault_loader\u001b[0;34m(path)\u001b[0m\n\u001b[1;32m    171\u001b[0m         \u001b[0;32mreturn\u001b[0m \u001b[0maccimage_loader\u001b[0m\u001b[0;34m(\u001b[0m\u001b[0mpath\u001b[0m\u001b[0;34m)\u001b[0m\u001b[0;34m\u001b[0m\u001b[0;34m\u001b[0m\u001b[0m\n\u001b[1;32m    172\u001b[0m     \u001b[0;32melse\u001b[0m\u001b[0;34m:\u001b[0m\u001b[0;34m\u001b[0m\u001b[0;34m\u001b[0m\u001b[0m\n\u001b[0;32m--> 173\u001b[0;31m         \u001b[0;32mreturn\u001b[0m \u001b[0mpil_loader\u001b[0m\u001b[0;34m(\u001b[0m\u001b[0mpath\u001b[0m\u001b[0;34m)\u001b[0m\u001b[0;34m\u001b[0m\u001b[0;34m\u001b[0m\u001b[0m\n\u001b[0m\u001b[1;32m    174\u001b[0m \u001b[0;34m\u001b[0m\u001b[0m\n\u001b[1;32m    175\u001b[0m \u001b[0;34m\u001b[0m\u001b[0m\n",
            "\u001b[0;32m/usr/local/lib/python3.6/dist-packages/torchvision/datasets/folder.py\u001b[0m in \u001b[0;36mpil_loader\u001b[0;34m(path)\u001b[0m\n\u001b[1;32m    153\u001b[0m     \u001b[0;31m# open path as file to avoid ResourceWarning (https://github.com/python-pillow/Pillow/issues/835)\u001b[0m\u001b[0;34m\u001b[0m\u001b[0;34m\u001b[0m\u001b[0;34m\u001b[0m\u001b[0m\n\u001b[1;32m    154\u001b[0m     \u001b[0;32mwith\u001b[0m \u001b[0mopen\u001b[0m\u001b[0;34m(\u001b[0m\u001b[0mpath\u001b[0m\u001b[0;34m,\u001b[0m \u001b[0;34m'rb'\u001b[0m\u001b[0;34m)\u001b[0m \u001b[0;32mas\u001b[0m \u001b[0mf\u001b[0m\u001b[0;34m:\u001b[0m\u001b[0;34m\u001b[0m\u001b[0;34m\u001b[0m\u001b[0m\n\u001b[0;32m--> 155\u001b[0;31m         \u001b[0mimg\u001b[0m \u001b[0;34m=\u001b[0m \u001b[0mImage\u001b[0m\u001b[0;34m.\u001b[0m\u001b[0mopen\u001b[0m\u001b[0;34m(\u001b[0m\u001b[0mf\u001b[0m\u001b[0;34m)\u001b[0m\u001b[0;34m\u001b[0m\u001b[0;34m\u001b[0m\u001b[0m\n\u001b[0m\u001b[1;32m    156\u001b[0m         \u001b[0;32mreturn\u001b[0m \u001b[0mimg\u001b[0m\u001b[0;34m.\u001b[0m\u001b[0mconvert\u001b[0m\u001b[0;34m(\u001b[0m\u001b[0;34m'RGB'\u001b[0m\u001b[0;34m)\u001b[0m\u001b[0;34m\u001b[0m\u001b[0;34m\u001b[0m\u001b[0m\n\u001b[1;32m    157\u001b[0m \u001b[0;34m\u001b[0m\u001b[0m\n",
            "\u001b[0;32m/usr/local/lib/python3.6/dist-packages/PIL/Image.py\u001b[0m in \u001b[0;36mopen\u001b[0;34m(fp, mode)\u001b[0m\n\u001b[1;32m   2816\u001b[0m         \u001b[0mexclusive_fp\u001b[0m \u001b[0;34m=\u001b[0m \u001b[0;32mTrue\u001b[0m\u001b[0;34m\u001b[0m\u001b[0;34m\u001b[0m\u001b[0m\n\u001b[1;32m   2817\u001b[0m \u001b[0;34m\u001b[0m\u001b[0m\n\u001b[0;32m-> 2818\u001b[0;31m     \u001b[0mprefix\u001b[0m \u001b[0;34m=\u001b[0m \u001b[0mfp\u001b[0m\u001b[0;34m.\u001b[0m\u001b[0mread\u001b[0m\u001b[0;34m(\u001b[0m\u001b[0;36m16\u001b[0m\u001b[0;34m)\u001b[0m\u001b[0;34m\u001b[0m\u001b[0;34m\u001b[0m\u001b[0m\n\u001b[0m\u001b[1;32m   2819\u001b[0m \u001b[0;34m\u001b[0m\u001b[0m\n\u001b[1;32m   2820\u001b[0m     \u001b[0mpreinit\u001b[0m\u001b[0;34m(\u001b[0m\u001b[0;34m)\u001b[0m\u001b[0;34m\u001b[0m\u001b[0;34m\u001b[0m\u001b[0m\n",
            "\u001b[0;31mKeyboardInterrupt\u001b[0m: "
          ]
        }
      ]
    },
    {
      "cell_type": "code",
      "metadata": {
        "id": "ZHFFD-l6M-h-"
      },
      "source": [
        "model_transfer2 = models.resnext50_32x4d(pretrained=False)\n",
        "\n",
        "fc = nn.Sequential(OrderedDict([\n",
        "                          ('(0):Dropout' , nn.Dropout()),\n",
        "                          ('(1):Linear', nn.Linear(2048, 1000)),\n",
        "                          ('(2):Batchnorm', nn.BatchNorm1d(1000)), \n",
        "                          ('(3):relu', nn.ReLU()),\n",
        "                          ('(4):Dropout' , nn.Dropout()),\n",
        "                          ('(5):Linear', nn.Linear(1000, 100)),\n",
        "                          ('(6):Batchnorm', nn.BatchNorm1d(100)),\n",
        "                          ('(7):relu', nn.ReLU()),\n",
        "                          ('(8):Linear', nn.Linear(100,10)),\n",
        "    \n",
        "                          ('(9):Batchnorm', nn.BatchNorm1d(10)),\n",
        "                          ('(10):Linear', nn.Linear(10,5)),\n",
        "                          ('(11):relu', nn.ReLU()),\n",
        "    \n",
        "                          ('(12):output', nn.LogSoftmax(dim=1))\n",
        "                          ]))\n",
        "\n",
        "model_transfer2.fc = fc\n",
        "\n",
        "model_transfer2 =model_transfer2.to(device)"
      ],
      "execution_count": null,
      "outputs": []
    },
    {
      "cell_type": "code",
      "metadata": {
        "id": "PHikXepeM-iJ",
        "outputId": "ba4c6781-2bb0-4bee-a3d2-7019aac7ab3b"
      },
      "source": [
        "model_transfer.load_state_dict(torch.load('modle_best.pt'))\n",
        "model_transfer2.load_state_dict(torch.load('modle_second.pt'))"
      ],
      "execution_count": null,
      "outputs": [
        {
          "output_type": "execute_result",
          "data": {
            "text/plain": [
              "<All keys matched successfully>"
            ]
          },
          "metadata": {
            "tags": []
          },
          "execution_count": 13
        }
      ]
    },
    {
      "cell_type": "code",
      "metadata": {
        "id": "_GPIezX0M-iR",
        "outputId": "bbfb38f2-e680-4608-cfc2-ade3b1ee0344"
      },
      "source": [
        "\n",
        "model_transfer.eval()\n",
        "model_transfer2.eval()\n",
        "test_loss =0\n",
        "test_accuracy = 0\n",
        "with torch.no_grad():\n",
        "    for x,y in tqdm(test_dataloader):\n",
        "        x,y = x.to(device), y.to(device)\n",
        "        output = model_transfer(x)\n",
        "        output2 = model_transfer2(x)\n",
        "#         loss=criterion( output, y)\n",
        "\n",
        "#         test_loss += loss.item()*x.size(0)\n",
        "\n",
        "        ps = torch.exp(output)\n",
        "        ps2 = torch.exp(output2)\n",
        "        ps = (ps+ps2)*0.5\n",
        "        \n",
        "        top_p, top_class = ps.topk(1, dim=1)\n",
        "        equals = top_class == y.view(*top_class.shape)\n",
        "        \n",
        "        \n",
        "        test_accuracy += torch.mean(equals.type(torch.FloatTensor)).item()\n",
        "    \n",
        "# test_loss = test_loss/ len(test_dataloader.sampler)\n",
        "test_accuracy=(test_accuracy/len(test_dataloader))*100\n",
        "\n",
        "# print(test_loss)\n",
        "print(test_accuracy)"
      ],
      "execution_count": null,
      "outputs": [
        {
          "output_type": "stream",
          "text": [
            "100%|██████████████████████████████████████████████████████████████████████████████████| 44/44 [01:02<00:00,  1.43s/it]"
          ],
          "name": "stderr"
        },
        {
          "output_type": "stream",
          "text": [
            "98.9346590909091\n"
          ],
          "name": "stdout"
        },
        {
          "output_type": "stream",
          "text": [
            "\n"
          ],
          "name": "stderr"
        }
      ]
    },
    {
      "cell_type": "code",
      "metadata": {
        "id": "H5WhCUtKM-id"
      },
      "source": [
        "from PIL import Image\n",
        "\n",
        "import matplotlib.pyplot as plt\n",
        "def predict(imgpath):\n",
        "    \n",
        "    MEANS = [0.5 , 0.5, 0.5]\n",
        "    DEVIATIONS = [0.5, 0.5 , 0.5]\n",
        "    transform = transforms.Compose([transforms.Resize(255),\n",
        "                                transforms.RandomCrop(224),\n",
        "                                transforms.RandomHorizontalFlip(p=0.5),\n",
        "                                transforms.ToTensor(),\n",
        "                                transforms.Normalize(MEANS,DEVIATIONS)\n",
        "                               ])\n",
        "\n",
        "    img = Image.open(imgpath).convert('RGB')\n",
        "    plt.imshow(img)\n",
        "    img = transform(img)\n",
        "    img = torch.unsqueeze(img , dim=0)\n",
        "    \n",
        "    img = img.to(device)\n",
        "    with torch.no_grad():\n",
        "        output = model_transfer(img)\n",
        "        output2 = model_transfer2(img)\n",
        "    ps = torch.exp(output)\n",
        "    ps2 = torch.exp(output2)\n",
        "    ps =(ps+ps2)*0.5\n",
        "    \n",
        "    \n",
        "    \n",
        "    top_p, top_class = ps.topk(1, dim=1)\n",
        "    ans = ['clc', '공학관', '대학본부별관', '산학협력관', '일송아트홀']\n",
        "    print(ans[top_class])"
      ],
      "execution_count": null,
      "outputs": []
    },
    {
      "cell_type": "markdown",
      "metadata": {
        "id": "3-mgoJbqj3mv"
      },
      "source": [
        ""
      ]
    },
    {
      "cell_type": "code",
      "metadata": {
        "id": "LKUZ3ypYM-ir",
        "outputId": "c299f075-ad83-4faa-d426-e005bf4bd8b5"
      },
      "source": [
        "predict('./22.png')  #데이터 로더를 만들어서 , "
      ],
      "execution_count": null,
      "outputs": [
        {
          "output_type": "stream",
          "text": [
            "일송아트홀\n"
          ],
          "name": "stdout"
        },
        {
          "output_type": "display_data",
          "data": {
            "image/png": "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\n",
            "text/plain": [
              "<Figure size 432x288 with 1 Axes>"
            ]
          },
          "metadata": {
            "tags": [],
            "needs_background": "light"
          }
        }
      ]
    }
  ]
}
